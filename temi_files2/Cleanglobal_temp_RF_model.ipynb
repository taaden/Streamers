{
 "cells": [
  {
   "cell_type": "code",
   "execution_count": 1,
   "id": "239aa226",
   "metadata": {},
   "outputs": [],
   "source": [
    "import pandas as pd\n",
    "from pathlib import Path\n",
    "import matplotlib.pyplot as plt\n",
    "import plotly.express as px\n",
    "import plotly.graph_objects as go\n",
    "%matplotlib inline\n",
    "import seaborn as sns\n",
    "import matplotlib.pyplot as plt\n",
    "import matplotlib.colors as mcolors\n",
    "from sklearn.ensemble import RandomForestClassifier\n",
    "from sklearn.preprocessing import StandardScaler\n",
    "from sklearn.model_selection import train_test_split\n",
    "from sklearn.metrics import confusion_matrix, accuracy_score, classification_report"
   ]
  },
  {
   "cell_type": "code",
   "execution_count": 2,
   "id": "b6a30b33",
   "metadata": {},
   "outputs": [
    {
     "data": {
      "text/html": [
       "<div>\n",
       "<style scoped>\n",
       "    .dataframe tbody tr th:only-of-type {\n",
       "        vertical-align: middle;\n",
       "    }\n",
       "\n",
       "    .dataframe tbody tr th {\n",
       "        vertical-align: top;\n",
       "    }\n",
       "\n",
       "    .dataframe thead th {\n",
       "        text-align: right;\n",
       "    }\n",
       "</style>\n",
       "<table border=\"1\" class=\"dataframe\">\n",
       "  <thead>\n",
       "    <tr style=\"text-align: right;\">\n",
       "      <th></th>\n",
       "      <th>dt</th>\n",
       "      <th>AverageTemperature</th>\n",
       "      <th>AverageTemperatureUncertainty</th>\n",
       "      <th>State</th>\n",
       "      <th>Country</th>\n",
       "    </tr>\n",
       "  </thead>\n",
       "  <tbody>\n",
       "    <tr>\n",
       "      <th>0</th>\n",
       "      <td>1855-05-01</td>\n",
       "      <td>25.544</td>\n",
       "      <td>1.171</td>\n",
       "      <td>Acre</td>\n",
       "      <td>Brazil</td>\n",
       "    </tr>\n",
       "    <tr>\n",
       "      <th>1</th>\n",
       "      <td>1855-06-01</td>\n",
       "      <td>24.228</td>\n",
       "      <td>1.103</td>\n",
       "      <td>Acre</td>\n",
       "      <td>Brazil</td>\n",
       "    </tr>\n",
       "    <tr>\n",
       "      <th>2</th>\n",
       "      <td>1855-07-01</td>\n",
       "      <td>24.371</td>\n",
       "      <td>1.044</td>\n",
       "      <td>Acre</td>\n",
       "      <td>Brazil</td>\n",
       "    </tr>\n",
       "    <tr>\n",
       "      <th>3</th>\n",
       "      <td>1855-08-01</td>\n",
       "      <td>25.427</td>\n",
       "      <td>1.073</td>\n",
       "      <td>Acre</td>\n",
       "      <td>Brazil</td>\n",
       "    </tr>\n",
       "    <tr>\n",
       "      <th>4</th>\n",
       "      <td>1855-09-01</td>\n",
       "      <td>25.675</td>\n",
       "      <td>1.014</td>\n",
       "      <td>Acre</td>\n",
       "      <td>Brazil</td>\n",
       "    </tr>\n",
       "  </tbody>\n",
       "</table>\n",
       "</div>"
      ],
      "text/plain": [
       "           dt  AverageTemperature  AverageTemperatureUncertainty State Country\n",
       "0  1855-05-01              25.544                          1.171  Acre  Brazil\n",
       "1  1855-06-01              24.228                          1.103  Acre  Brazil\n",
       "2  1855-07-01              24.371                          1.044  Acre  Brazil\n",
       "3  1855-08-01              25.427                          1.073  Acre  Brazil\n",
       "4  1855-09-01              25.675                          1.014  Acre  Brazil"
      ]
     },
     "execution_count": 2,
     "metadata": {},
     "output_type": "execute_result"
    }
   ],
   "source": [
    "file_path = \"./Resources/GlobalLandTemperaturesByState.csv\"\n",
    "global_temp_df = pd.read_csv(file_path)\n",
    "global_temp_df.head()"
   ]
  },
  {
   "cell_type": "code",
   "execution_count": 3,
   "id": "de0a0a94",
   "metadata": {},
   "outputs": [],
   "source": [
    "# cast to to datetime\n",
    "dt= lambda df_: pd.to_datetime(df_['dt'])"
   ]
  },
  {
   "cell_type": "code",
   "execution_count": 4,
   "id": "a70b7f58",
   "metadata": {
    "scrolled": true
   },
   "outputs": [
    {
     "data": {
      "text/html": [
       "<div>\n",
       "<style scoped>\n",
       "    .dataframe tbody tr th:only-of-type {\n",
       "        vertical-align: middle;\n",
       "    }\n",
       "\n",
       "    .dataframe tbody tr th {\n",
       "        vertical-align: top;\n",
       "    }\n",
       "\n",
       "    .dataframe thead th {\n",
       "        text-align: right;\n",
       "    }\n",
       "</style>\n",
       "<table border=\"1\" class=\"dataframe\">\n",
       "  <thead>\n",
       "    <tr style=\"text-align: right;\">\n",
       "      <th></th>\n",
       "      <th>dt</th>\n",
       "      <th>AverageTemperature</th>\n",
       "      <th>AverageTemperatureUncertainty</th>\n",
       "      <th>State</th>\n",
       "      <th>Country</th>\n",
       "    </tr>\n",
       "  </thead>\n",
       "  <tbody>\n",
       "    <tr>\n",
       "      <th>536</th>\n",
       "      <td>1900-01-01</td>\n",
       "      <td>25.732</td>\n",
       "      <td>1.080</td>\n",
       "      <td>Acre</td>\n",
       "      <td>Brazil</td>\n",
       "    </tr>\n",
       "    <tr>\n",
       "      <th>537</th>\n",
       "      <td>1900-02-01</td>\n",
       "      <td>26.050</td>\n",
       "      <td>1.080</td>\n",
       "      <td>Acre</td>\n",
       "      <td>Brazil</td>\n",
       "    </tr>\n",
       "    <tr>\n",
       "      <th>538</th>\n",
       "      <td>1900-03-01</td>\n",
       "      <td>26.574</td>\n",
       "      <td>0.894</td>\n",
       "      <td>Acre</td>\n",
       "      <td>Brazil</td>\n",
       "    </tr>\n",
       "    <tr>\n",
       "      <th>539</th>\n",
       "      <td>1900-04-01</td>\n",
       "      <td>25.947</td>\n",
       "      <td>1.192</td>\n",
       "      <td>Acre</td>\n",
       "      <td>Brazil</td>\n",
       "    </tr>\n",
       "    <tr>\n",
       "      <th>540</th>\n",
       "      <td>1900-05-01</td>\n",
       "      <td>25.557</td>\n",
       "      <td>0.856</td>\n",
       "      <td>Acre</td>\n",
       "      <td>Brazil</td>\n",
       "    </tr>\n",
       "  </tbody>\n",
       "</table>\n",
       "</div>"
      ],
      "text/plain": [
       "             dt  AverageTemperature  AverageTemperatureUncertainty State  \\\n",
       "536  1900-01-01              25.732                          1.080  Acre   \n",
       "537  1900-02-01              26.050                          1.080  Acre   \n",
       "538  1900-03-01              26.574                          0.894  Acre   \n",
       "539  1900-04-01              25.947                          1.192  Acre   \n",
       "540  1900-05-01              25.557                          0.856  Acre   \n",
       "\n",
       "    Country  \n",
       "536  Brazil  \n",
       "537  Brazil  \n",
       "538  Brazil  \n",
       "539  Brazil  \n",
       "540  Brazil  "
      ]
     },
     "execution_count": 4,
     "metadata": {},
     "output_type": "execute_result"
    }
   ],
   "source": [
    "# Extract average Temp across the world since the begining of the 1900\n",
    "global_temp_df = global_temp_df.loc[(global_temp_df['dt'] >= '1900-01-01')]\n",
    "global_temp_df.head()\n"
   ]
  },
  {
   "cell_type": "code",
   "execution_count": 5,
   "id": "c9ae887c",
   "metadata": {
    "scrolled": true
   },
   "outputs": [
    {
     "data": {
      "text/html": [
       "<div>\n",
       "<style scoped>\n",
       "    .dataframe tbody tr th:only-of-type {\n",
       "        vertical-align: middle;\n",
       "    }\n",
       "\n",
       "    .dataframe tbody tr th {\n",
       "        vertical-align: top;\n",
       "    }\n",
       "\n",
       "    .dataframe thead th {\n",
       "        text-align: right;\n",
       "    }\n",
       "</style>\n",
       "<table border=\"1\" class=\"dataframe\">\n",
       "  <thead>\n",
       "    <tr style=\"text-align: right;\">\n",
       "      <th></th>\n",
       "      <th>dt</th>\n",
       "      <th>AverageTemperature</th>\n",
       "      <th>AverageTemperatureUncertainty</th>\n",
       "      <th>State</th>\n",
       "      <th>Country</th>\n",
       "    </tr>\n",
       "  </thead>\n",
       "  <tbody>\n",
       "    <tr>\n",
       "      <th>536</th>\n",
       "      <td>1900-01-01</td>\n",
       "      <td>25.732</td>\n",
       "      <td>1.080</td>\n",
       "      <td>Acre</td>\n",
       "      <td>Brazil</td>\n",
       "    </tr>\n",
       "    <tr>\n",
       "      <th>537</th>\n",
       "      <td>1900-02-01</td>\n",
       "      <td>26.050</td>\n",
       "      <td>1.080</td>\n",
       "      <td>Acre</td>\n",
       "      <td>Brazil</td>\n",
       "    </tr>\n",
       "    <tr>\n",
       "      <th>538</th>\n",
       "      <td>1900-03-01</td>\n",
       "      <td>26.574</td>\n",
       "      <td>0.894</td>\n",
       "      <td>Acre</td>\n",
       "      <td>Brazil</td>\n",
       "    </tr>\n",
       "    <tr>\n",
       "      <th>539</th>\n",
       "      <td>1900-04-01</td>\n",
       "      <td>25.947</td>\n",
       "      <td>1.192</td>\n",
       "      <td>Acre</td>\n",
       "      <td>Brazil</td>\n",
       "    </tr>\n",
       "    <tr>\n",
       "      <th>540</th>\n",
       "      <td>1900-05-01</td>\n",
       "      <td>25.557</td>\n",
       "      <td>0.856</td>\n",
       "      <td>Acre</td>\n",
       "      <td>Brazil</td>\n",
       "    </tr>\n",
       "  </tbody>\n",
       "</table>\n",
       "</div>"
      ],
      "text/plain": [
       "             dt  AverageTemperature  AverageTemperatureUncertainty State  \\\n",
       "536  1900-01-01              25.732                          1.080  Acre   \n",
       "537  1900-02-01              26.050                          1.080  Acre   \n",
       "538  1900-03-01              26.574                          0.894  Acre   \n",
       "539  1900-04-01              25.947                          1.192  Acre   \n",
       "540  1900-05-01              25.557                          0.856  Acre   \n",
       "\n",
       "    Country  \n",
       "536  Brazil  \n",
       "537  Brazil  \n",
       "538  Brazil  \n",
       "539  Brazil  \n",
       "540  Brazil  "
      ]
     },
     "execution_count": 5,
     "metadata": {},
     "output_type": "execute_result"
    }
   ],
   "source": [
    "# drop the null values\n",
    "cleanglobal_temp_df = global_temp_df.dropna()\n",
    "cleanglobal_temp_df.head()"
   ]
  },
  {
   "cell_type": "code",
   "execution_count": 6,
   "id": "6f970823",
   "metadata": {},
   "outputs": [
    {
     "data": {
      "text/plain": [
       "dt                                1365\n",
       "AverageTemperature               78730\n",
       "AverageTemperatureUncertainty     3089\n",
       "State                              241\n",
       "Country                              7\n",
       "dtype: int64"
      ]
     },
     "execution_count": 6,
     "metadata": {},
     "output_type": "execute_result"
    }
   ],
   "source": [
    "# Make a copy of the data for future use\n",
    "copy = cleanglobal_temp_df.copy()\n",
    "# check the unique coloumn\n",
    "cleanglobal_temp_df.nunique()\n"
   ]
  },
  {
   "cell_type": "code",
   "execution_count": 7,
   "id": "7a3af44d",
   "metadata": {},
   "outputs": [
    {
     "data": {
      "text/plain": [
       "dt                                object\n",
       "AverageTemperature               float64\n",
       "AverageTemperatureUncertainty    float64\n",
       "State                             object\n",
       "Country                           object\n",
       "dtype: object"
      ]
     },
     "execution_count": 7,
     "metadata": {},
     "output_type": "execute_result"
    }
   ],
   "source": [
    "cleanglobal_temp_df.dtypes"
   ]
  },
  {
   "cell_type": "code",
   "execution_count": 8,
   "id": "2d4db875",
   "metadata": {},
   "outputs": [
    {
     "data": {
      "text/plain": [
       "dt                               328784\n",
       "AverageTemperature               328784\n",
       "AverageTemperatureUncertainty    328784\n",
       "State                            328784\n",
       "Country                          328784\n",
       "dtype: int64"
      ]
     },
     "execution_count": 8,
     "metadata": {},
     "output_type": "execute_result"
    }
   ],
   "source": [
    "cleanglobal_temp_df.notnull().sum()\n"
   ]
  },
  {
   "cell_type": "code",
   "execution_count": 9,
   "id": "9aaed2bd",
   "metadata": {
    "scrolled": true
   },
   "outputs": [
    {
     "data": {
      "text/html": [
       "<div>\n",
       "<style scoped>\n",
       "    .dataframe tbody tr th:only-of-type {\n",
       "        vertical-align: middle;\n",
       "    }\n",
       "\n",
       "    .dataframe tbody tr th {\n",
       "        vertical-align: top;\n",
       "    }\n",
       "\n",
       "    .dataframe thead th {\n",
       "        text-align: right;\n",
       "    }\n",
       "</style>\n",
       "<table border=\"1\" class=\"dataframe\">\n",
       "  <thead>\n",
       "    <tr style=\"text-align: right;\">\n",
       "      <th></th>\n",
       "      <th>Date</th>\n",
       "      <th>Avg_temp</th>\n",
       "      <th>Avg_temp_Uncer</th>\n",
       "      <th>State</th>\n",
       "      <th>Country</th>\n",
       "    </tr>\n",
       "  </thead>\n",
       "  <tbody>\n",
       "    <tr>\n",
       "      <th>536</th>\n",
       "      <td>1900-01-01</td>\n",
       "      <td>25.732</td>\n",
       "      <td>1.080</td>\n",
       "      <td>Acre</td>\n",
       "      <td>Brazil</td>\n",
       "    </tr>\n",
       "    <tr>\n",
       "      <th>537</th>\n",
       "      <td>1900-02-01</td>\n",
       "      <td>26.050</td>\n",
       "      <td>1.080</td>\n",
       "      <td>Acre</td>\n",
       "      <td>Brazil</td>\n",
       "    </tr>\n",
       "    <tr>\n",
       "      <th>538</th>\n",
       "      <td>1900-03-01</td>\n",
       "      <td>26.574</td>\n",
       "      <td>0.894</td>\n",
       "      <td>Acre</td>\n",
       "      <td>Brazil</td>\n",
       "    </tr>\n",
       "    <tr>\n",
       "      <th>539</th>\n",
       "      <td>1900-04-01</td>\n",
       "      <td>25.947</td>\n",
       "      <td>1.192</td>\n",
       "      <td>Acre</td>\n",
       "      <td>Brazil</td>\n",
       "    </tr>\n",
       "    <tr>\n",
       "      <th>540</th>\n",
       "      <td>1900-05-01</td>\n",
       "      <td>25.557</td>\n",
       "      <td>0.856</td>\n",
       "      <td>Acre</td>\n",
       "      <td>Brazil</td>\n",
       "    </tr>\n",
       "  </tbody>\n",
       "</table>\n",
       "</div>"
      ],
      "text/plain": [
       "           Date  Avg_temp  Avg_temp_Uncer State Country\n",
       "536  1900-01-01    25.732           1.080  Acre  Brazil\n",
       "537  1900-02-01    26.050           1.080  Acre  Brazil\n",
       "538  1900-03-01    26.574           0.894  Acre  Brazil\n",
       "539  1900-04-01    25.947           1.192  Acre  Brazil\n",
       "540  1900-05-01    25.557           0.856  Acre  Brazil"
      ]
     },
     "execution_count": 9,
     "metadata": {},
     "output_type": "execute_result"
    }
   ],
   "source": [
    "# Recode the Columns\n",
    "cleanglobal_temp_df = cleanglobal_temp_df.rename(columns={\"dt\":\"Date\",\n",
    "                                                  \"AverageTemperature\":\"Avg_temp\",\n",
    "                                                  \"AverageTemperatureUncertainty\":\"Avg_temp_Uncer\",\n",
    "                                                  \"State\":\"State\",\n",
    "                                                  \"Country\":\"Country\"})\n",
    "cleanglobal_temp_df.head()\n"
   ]
  },
  {
   "cell_type": "code",
   "execution_count": 10,
   "id": "4a2bf164",
   "metadata": {
    "scrolled": true
   },
   "outputs": [
    {
     "data": {
      "text/html": [
       "<div>\n",
       "<style scoped>\n",
       "    .dataframe tbody tr th:only-of-type {\n",
       "        vertical-align: middle;\n",
       "    }\n",
       "\n",
       "    .dataframe tbody tr th {\n",
       "        vertical-align: top;\n",
       "    }\n",
       "\n",
       "    .dataframe thead th {\n",
       "        text-align: right;\n",
       "    }\n",
       "</style>\n",
       "<table border=\"1\" class=\"dataframe\">\n",
       "  <thead>\n",
       "    <tr style=\"text-align: right;\">\n",
       "      <th></th>\n",
       "      <th>Date</th>\n",
       "      <th>Avg_temp</th>\n",
       "      <th>Avg_temp_Uncer</th>\n",
       "      <th>State</th>\n",
       "      <th>Country</th>\n",
       "    </tr>\n",
       "  </thead>\n",
       "  <tbody>\n",
       "    <tr>\n",
       "      <th>536</th>\n",
       "      <td>1900-01-01</td>\n",
       "      <td>25.73</td>\n",
       "      <td>1.08</td>\n",
       "      <td>Acre</td>\n",
       "      <td>Brazil</td>\n",
       "    </tr>\n",
       "    <tr>\n",
       "      <th>537</th>\n",
       "      <td>1900-02-01</td>\n",
       "      <td>26.05</td>\n",
       "      <td>1.08</td>\n",
       "      <td>Acre</td>\n",
       "      <td>Brazil</td>\n",
       "    </tr>\n",
       "    <tr>\n",
       "      <th>538</th>\n",
       "      <td>1900-03-01</td>\n",
       "      <td>26.57</td>\n",
       "      <td>0.89</td>\n",
       "      <td>Acre</td>\n",
       "      <td>Brazil</td>\n",
       "    </tr>\n",
       "    <tr>\n",
       "      <th>539</th>\n",
       "      <td>1900-04-01</td>\n",
       "      <td>25.95</td>\n",
       "      <td>1.19</td>\n",
       "      <td>Acre</td>\n",
       "      <td>Brazil</td>\n",
       "    </tr>\n",
       "    <tr>\n",
       "      <th>540</th>\n",
       "      <td>1900-05-01</td>\n",
       "      <td>25.56</td>\n",
       "      <td>0.86</td>\n",
       "      <td>Acre</td>\n",
       "      <td>Brazil</td>\n",
       "    </tr>\n",
       "    <tr>\n",
       "      <th>...</th>\n",
       "      <td>...</td>\n",
       "      <td>...</td>\n",
       "      <td>...</td>\n",
       "      <td>...</td>\n",
       "      <td>...</td>\n",
       "    </tr>\n",
       "    <tr>\n",
       "      <th>645669</th>\n",
       "      <td>2013-04-01</td>\n",
       "      <td>15.71</td>\n",
       "      <td>0.46</td>\n",
       "      <td>Zhejiang</td>\n",
       "      <td>China</td>\n",
       "    </tr>\n",
       "    <tr>\n",
       "      <th>645670</th>\n",
       "      <td>2013-05-01</td>\n",
       "      <td>21.63</td>\n",
       "      <td>0.58</td>\n",
       "      <td>Zhejiang</td>\n",
       "      <td>China</td>\n",
       "    </tr>\n",
       "    <tr>\n",
       "      <th>645671</th>\n",
       "      <td>2013-06-01</td>\n",
       "      <td>24.68</td>\n",
       "      <td>0.60</td>\n",
       "      <td>Zhejiang</td>\n",
       "      <td>China</td>\n",
       "    </tr>\n",
       "    <tr>\n",
       "      <th>645672</th>\n",
       "      <td>2013-07-01</td>\n",
       "      <td>29.27</td>\n",
       "      <td>1.34</td>\n",
       "      <td>Zhejiang</td>\n",
       "      <td>China</td>\n",
       "    </tr>\n",
       "    <tr>\n",
       "      <th>645673</th>\n",
       "      <td>2013-08-01</td>\n",
       "      <td>29.20</td>\n",
       "      <td>0.87</td>\n",
       "      <td>Zhejiang</td>\n",
       "      <td>China</td>\n",
       "    </tr>\n",
       "  </tbody>\n",
       "</table>\n",
       "<p>328784 rows × 5 columns</p>\n",
       "</div>"
      ],
      "text/plain": [
       "              Date Avg_temp Avg_temp_Uncer     State Country\n",
       "536     1900-01-01    25.73           1.08      Acre  Brazil\n",
       "537     1900-02-01    26.05           1.08      Acre  Brazil\n",
       "538     1900-03-01    26.57           0.89      Acre  Brazil\n",
       "539     1900-04-01    25.95           1.19      Acre  Brazil\n",
       "540     1900-05-01    25.56           0.86      Acre  Brazil\n",
       "...            ...      ...            ...       ...     ...\n",
       "645669  2013-04-01    15.71           0.46  Zhejiang   China\n",
       "645670  2013-05-01    21.63           0.58  Zhejiang   China\n",
       "645671  2013-06-01    24.68           0.60  Zhejiang   China\n",
       "645672  2013-07-01    29.27           1.34  Zhejiang   China\n",
       "645673  2013-08-01    29.20           0.87  Zhejiang   China\n",
       "\n",
       "[328784 rows x 5 columns]"
      ]
     },
     "execution_count": 10,
     "metadata": {},
     "output_type": "execute_result"
    }
   ],
   "source": [
    "# Format the columns.\n",
    "cleanglobal_temp_df[\"Avg_temp\"] = cleanglobal_temp_df[\"Avg_temp\"].map(\"{:.2f}\".format)\n",
    "cleanglobal_temp_df[\"Avg_temp_Uncer\"] = cleanglobal_temp_df[\"Avg_temp_Uncer\"].map(\"{:.2f}\".format)\n",
    "cleanglobal_temp_df"
   ]
  },
  {
   "cell_type": "code",
   "execution_count": 11,
   "id": "de8cc276",
   "metadata": {},
   "outputs": [
    {
     "data": {
      "text/html": [
       "<div>\n",
       "<style scoped>\n",
       "    .dataframe tbody tr th:only-of-type {\n",
       "        vertical-align: middle;\n",
       "    }\n",
       "\n",
       "    .dataframe tbody tr th {\n",
       "        vertical-align: top;\n",
       "    }\n",
       "\n",
       "    .dataframe thead th {\n",
       "        text-align: right;\n",
       "    }\n",
       "</style>\n",
       "<table border=\"1\" class=\"dataframe\">\n",
       "  <thead>\n",
       "    <tr style=\"text-align: right;\">\n",
       "      <th></th>\n",
       "      <th>Date</th>\n",
       "      <th>Avg_temp</th>\n",
       "      <th>Avg_temp_Uncer</th>\n",
       "      <th>State</th>\n",
       "      <th>Country</th>\n",
       "    </tr>\n",
       "  </thead>\n",
       "  <tbody>\n",
       "    <tr>\n",
       "      <th>0</th>\n",
       "      <td>1900-01-01</td>\n",
       "      <td>25.73</td>\n",
       "      <td>1.08</td>\n",
       "      <td>Acre</td>\n",
       "      <td>Brazil</td>\n",
       "    </tr>\n",
       "    <tr>\n",
       "      <th>1</th>\n",
       "      <td>1900-02-01</td>\n",
       "      <td>26.05</td>\n",
       "      <td>1.08</td>\n",
       "      <td>Acre</td>\n",
       "      <td>Brazil</td>\n",
       "    </tr>\n",
       "    <tr>\n",
       "      <th>2</th>\n",
       "      <td>1900-03-01</td>\n",
       "      <td>26.57</td>\n",
       "      <td>0.89</td>\n",
       "      <td>Acre</td>\n",
       "      <td>Brazil</td>\n",
       "    </tr>\n",
       "    <tr>\n",
       "      <th>3</th>\n",
       "      <td>1900-04-01</td>\n",
       "      <td>25.95</td>\n",
       "      <td>1.19</td>\n",
       "      <td>Acre</td>\n",
       "      <td>Brazil</td>\n",
       "    </tr>\n",
       "    <tr>\n",
       "      <th>4</th>\n",
       "      <td>1900-05-01</td>\n",
       "      <td>25.56</td>\n",
       "      <td>0.86</td>\n",
       "      <td>Acre</td>\n",
       "      <td>Brazil</td>\n",
       "    </tr>\n",
       "  </tbody>\n",
       "</table>\n",
       "</div>"
      ],
      "text/plain": [
       "         Date Avg_temp Avg_temp_Uncer State Country\n",
       "0  1900-01-01    25.73           1.08  Acre  Brazil\n",
       "1  1900-02-01    26.05           1.08  Acre  Brazil\n",
       "2  1900-03-01    26.57           0.89  Acre  Brazil\n",
       "3  1900-04-01    25.95           1.19  Acre  Brazil\n",
       "4  1900-05-01    25.56           0.86  Acre  Brazil"
      ]
     },
     "execution_count": 11,
     "metadata": {},
     "output_type": "execute_result"
    }
   ],
   "source": [
    "cleanglobal_temp_df.reset_index(drop=True,inplace= True)\n",
    "cleanglobal_temp_df.head()"
   ]
  },
  {
   "cell_type": "code",
   "execution_count": 12,
   "id": "e455e271",
   "metadata": {},
   "outputs": [],
   "source": [
    "\n",
    "copy['Date'] = pd.to_datetime(copy.dt)\n",
    "copy['Year'] = copy['Date'].dt.year\n",
    "Global_temp =copy.reset_index()"
   ]
  },
  {
   "cell_type": "code",
   "execution_count": 13,
   "id": "2d592532",
   "metadata": {
    "scrolled": true
   },
   "outputs": [
    {
     "data": {
      "text/html": [
       "<div>\n",
       "<style scoped>\n",
       "    .dataframe tbody tr th:only-of-type {\n",
       "        vertical-align: middle;\n",
       "    }\n",
       "\n",
       "    .dataframe tbody tr th {\n",
       "        vertical-align: top;\n",
       "    }\n",
       "\n",
       "    .dataframe thead th {\n",
       "        text-align: right;\n",
       "    }\n",
       "</style>\n",
       "<table border=\"1\" class=\"dataframe\">\n",
       "  <thead>\n",
       "    <tr style=\"text-align: right;\">\n",
       "      <th></th>\n",
       "      <th>index</th>\n",
       "      <th>dt</th>\n",
       "      <th>AverageTemperature</th>\n",
       "      <th>AverageTemperatureUncertainty</th>\n",
       "      <th>State</th>\n",
       "      <th>Country</th>\n",
       "      <th>Date</th>\n",
       "      <th>Year</th>\n",
       "    </tr>\n",
       "  </thead>\n",
       "  <tbody>\n",
       "    <tr>\n",
       "      <th>0</th>\n",
       "      <td>536</td>\n",
       "      <td>1900-01-01</td>\n",
       "      <td>25.732</td>\n",
       "      <td>1.080</td>\n",
       "      <td>Acre</td>\n",
       "      <td>Brazil</td>\n",
       "      <td>1900-01-01</td>\n",
       "      <td>1900</td>\n",
       "    </tr>\n",
       "    <tr>\n",
       "      <th>1</th>\n",
       "      <td>537</td>\n",
       "      <td>1900-02-01</td>\n",
       "      <td>26.050</td>\n",
       "      <td>1.080</td>\n",
       "      <td>Acre</td>\n",
       "      <td>Brazil</td>\n",
       "      <td>1900-02-01</td>\n",
       "      <td>1900</td>\n",
       "    </tr>\n",
       "    <tr>\n",
       "      <th>2</th>\n",
       "      <td>538</td>\n",
       "      <td>1900-03-01</td>\n",
       "      <td>26.574</td>\n",
       "      <td>0.894</td>\n",
       "      <td>Acre</td>\n",
       "      <td>Brazil</td>\n",
       "      <td>1900-03-01</td>\n",
       "      <td>1900</td>\n",
       "    </tr>\n",
       "    <tr>\n",
       "      <th>3</th>\n",
       "      <td>539</td>\n",
       "      <td>1900-04-01</td>\n",
       "      <td>25.947</td>\n",
       "      <td>1.192</td>\n",
       "      <td>Acre</td>\n",
       "      <td>Brazil</td>\n",
       "      <td>1900-04-01</td>\n",
       "      <td>1900</td>\n",
       "    </tr>\n",
       "    <tr>\n",
       "      <th>4</th>\n",
       "      <td>540</td>\n",
       "      <td>1900-05-01</td>\n",
       "      <td>25.557</td>\n",
       "      <td>0.856</td>\n",
       "      <td>Acre</td>\n",
       "      <td>Brazil</td>\n",
       "      <td>1900-05-01</td>\n",
       "      <td>1900</td>\n",
       "    </tr>\n",
       "  </tbody>\n",
       "</table>\n",
       "</div>"
      ],
      "text/plain": [
       "   index          dt  AverageTemperature  AverageTemperatureUncertainty State  \\\n",
       "0    536  1900-01-01              25.732                          1.080  Acre   \n",
       "1    537  1900-02-01              26.050                          1.080  Acre   \n",
       "2    538  1900-03-01              26.574                          0.894  Acre   \n",
       "3    539  1900-04-01              25.947                          1.192  Acre   \n",
       "4    540  1900-05-01              25.557                          0.856  Acre   \n",
       "\n",
       "  Country       Date  Year  \n",
       "0  Brazil 1900-01-01  1900  \n",
       "1  Brazil 1900-02-01  1900  \n",
       "2  Brazil 1900-03-01  1900  \n",
       "3  Brazil 1900-04-01  1900  \n",
       "4  Brazil 1900-05-01  1900  "
      ]
     },
     "execution_count": 13,
     "metadata": {},
     "output_type": "execute_result"
    }
   ],
   "source": [
    "Global_temp.head()"
   ]
  },
  {
   "cell_type": "code",
   "execution_count": 14,
   "id": "cb11cc9c",
   "metadata": {},
   "outputs": [
    {
     "data": {
      "text/html": [
       "<div>\n",
       "<style scoped>\n",
       "    .dataframe tbody tr th:only-of-type {\n",
       "        vertical-align: middle;\n",
       "    }\n",
       "\n",
       "    .dataframe tbody tr th {\n",
       "        vertical-align: top;\n",
       "    }\n",
       "\n",
       "    .dataframe thead th {\n",
       "        text-align: right;\n",
       "    }\n",
       "</style>\n",
       "<table border=\"1\" class=\"dataframe\">\n",
       "  <thead>\n",
       "    <tr style=\"text-align: right;\">\n",
       "      <th></th>\n",
       "      <th>index</th>\n",
       "      <th>AverageTemperature</th>\n",
       "      <th>AverageTemperatureUncertainty</th>\n",
       "      <th>State</th>\n",
       "      <th>Country</th>\n",
       "      <th>Date</th>\n",
       "      <th>Year</th>\n",
       "    </tr>\n",
       "  </thead>\n",
       "  <tbody>\n",
       "    <tr>\n",
       "      <th>0</th>\n",
       "      <td>536</td>\n",
       "      <td>25.732</td>\n",
       "      <td>1.080</td>\n",
       "      <td>Acre</td>\n",
       "      <td>Brazil</td>\n",
       "      <td>1900-01-01</td>\n",
       "      <td>1900</td>\n",
       "    </tr>\n",
       "    <tr>\n",
       "      <th>1</th>\n",
       "      <td>537</td>\n",
       "      <td>26.050</td>\n",
       "      <td>1.080</td>\n",
       "      <td>Acre</td>\n",
       "      <td>Brazil</td>\n",
       "      <td>1900-02-01</td>\n",
       "      <td>1900</td>\n",
       "    </tr>\n",
       "    <tr>\n",
       "      <th>2</th>\n",
       "      <td>538</td>\n",
       "      <td>26.574</td>\n",
       "      <td>0.894</td>\n",
       "      <td>Acre</td>\n",
       "      <td>Brazil</td>\n",
       "      <td>1900-03-01</td>\n",
       "      <td>1900</td>\n",
       "    </tr>\n",
       "    <tr>\n",
       "      <th>3</th>\n",
       "      <td>539</td>\n",
       "      <td>25.947</td>\n",
       "      <td>1.192</td>\n",
       "      <td>Acre</td>\n",
       "      <td>Brazil</td>\n",
       "      <td>1900-04-01</td>\n",
       "      <td>1900</td>\n",
       "    </tr>\n",
       "    <tr>\n",
       "      <th>4</th>\n",
       "      <td>540</td>\n",
       "      <td>25.557</td>\n",
       "      <td>0.856</td>\n",
       "      <td>Acre</td>\n",
       "      <td>Brazil</td>\n",
       "      <td>1900-05-01</td>\n",
       "      <td>1900</td>\n",
       "    </tr>\n",
       "  </tbody>\n",
       "</table>\n",
       "</div>"
      ],
      "text/plain": [
       "   index  AverageTemperature  AverageTemperatureUncertainty State Country  \\\n",
       "0    536              25.732                          1.080  Acre  Brazil   \n",
       "1    537              26.050                          1.080  Acre  Brazil   \n",
       "2    538              26.574                          0.894  Acre  Brazil   \n",
       "3    539              25.947                          1.192  Acre  Brazil   \n",
       "4    540              25.557                          0.856  Acre  Brazil   \n",
       "\n",
       "        Date  Year  \n",
       "0 1900-01-01  1900  \n",
       "1 1900-02-01  1900  \n",
       "2 1900-03-01  1900  \n",
       "3 1900-04-01  1900  \n",
       "4 1900-05-01  1900  "
      ]
     },
     "execution_count": 14,
     "metadata": {},
     "output_type": "execute_result"
    }
   ],
   "source": [
    "# drop  the \"dt\" column\n",
    "Global_temp.drop(columns = ['dt'], axis = 1, inplace = True)\n",
    "Global_temp.head()"
   ]
  },
  {
   "cell_type": "code",
   "execution_count": 15,
   "id": "38d5ad78",
   "metadata": {},
   "outputs": [
    {
     "data": {
      "text/html": [
       "<div>\n",
       "<style scoped>\n",
       "    .dataframe tbody tr th:only-of-type {\n",
       "        vertical-align: middle;\n",
       "    }\n",
       "\n",
       "    .dataframe tbody tr th {\n",
       "        vertical-align: top;\n",
       "    }\n",
       "\n",
       "    .dataframe thead th {\n",
       "        text-align: right;\n",
       "    }\n",
       "</style>\n",
       "<table border=\"1\" class=\"dataframe\">\n",
       "  <thead>\n",
       "    <tr style=\"text-align: right;\">\n",
       "      <th></th>\n",
       "      <th>AverageTemperature</th>\n",
       "      <th>AverageTemperatureUncertainty</th>\n",
       "      <th>State</th>\n",
       "      <th>Country</th>\n",
       "      <th>Date</th>\n",
       "      <th>Year</th>\n",
       "    </tr>\n",
       "  </thead>\n",
       "  <tbody>\n",
       "    <tr>\n",
       "      <th>0</th>\n",
       "      <td>25.732</td>\n",
       "      <td>1.080</td>\n",
       "      <td>Acre</td>\n",
       "      <td>Brazil</td>\n",
       "      <td>1900-01-01</td>\n",
       "      <td>1900</td>\n",
       "    </tr>\n",
       "    <tr>\n",
       "      <th>1</th>\n",
       "      <td>26.050</td>\n",
       "      <td>1.080</td>\n",
       "      <td>Acre</td>\n",
       "      <td>Brazil</td>\n",
       "      <td>1900-02-01</td>\n",
       "      <td>1900</td>\n",
       "    </tr>\n",
       "    <tr>\n",
       "      <th>2</th>\n",
       "      <td>26.574</td>\n",
       "      <td>0.894</td>\n",
       "      <td>Acre</td>\n",
       "      <td>Brazil</td>\n",
       "      <td>1900-03-01</td>\n",
       "      <td>1900</td>\n",
       "    </tr>\n",
       "    <tr>\n",
       "      <th>3</th>\n",
       "      <td>25.947</td>\n",
       "      <td>1.192</td>\n",
       "      <td>Acre</td>\n",
       "      <td>Brazil</td>\n",
       "      <td>1900-04-01</td>\n",
       "      <td>1900</td>\n",
       "    </tr>\n",
       "    <tr>\n",
       "      <th>4</th>\n",
       "      <td>25.557</td>\n",
       "      <td>0.856</td>\n",
       "      <td>Acre</td>\n",
       "      <td>Brazil</td>\n",
       "      <td>1900-05-01</td>\n",
       "      <td>1900</td>\n",
       "    </tr>\n",
       "  </tbody>\n",
       "</table>\n",
       "</div>"
      ],
      "text/plain": [
       "   AverageTemperature  AverageTemperatureUncertainty State Country       Date  \\\n",
       "0              25.732                          1.080  Acre  Brazil 1900-01-01   \n",
       "1              26.050                          1.080  Acre  Brazil 1900-02-01   \n",
       "2              26.574                          0.894  Acre  Brazil 1900-03-01   \n",
       "3              25.947                          1.192  Acre  Brazil 1900-04-01   \n",
       "4              25.557                          0.856  Acre  Brazil 1900-05-01   \n",
       "\n",
       "   Year  \n",
       "0  1900  \n",
       "1  1900  \n",
       "2  1900  \n",
       "3  1900  \n",
       "4  1900  "
      ]
     },
     "execution_count": 15,
     "metadata": {},
     "output_type": "execute_result"
    }
   ],
   "source": [
    "# drop  the \"index\" column\n",
    "Global_temp.drop(columns = ['index'], axis = 1, inplace = True)\n",
    "Global_temp.head()"
   ]
  },
  {
   "cell_type": "code",
   "execution_count": 16,
   "id": "e838569d",
   "metadata": {
    "scrolled": false
   },
   "outputs": [],
   "source": [
    "# # Save in the Resources\n",
    "# Global_temp.to_csv(index=True)\n",
    "# filepath = Path('Resources/Global_temp.csv')  \n",
    "# filepath.parent.mkdir(parents=True, exist_ok=True)  \n",
    "# Global_temp.to_csv(filepath)\n"
   ]
  },
  {
   "cell_type": "code",
   "execution_count": 17,
   "id": "726e4514",
   "metadata": {},
   "outputs": [],
   "source": [
    "worldtemp_df = Global_temp.copy()"
   ]
  },
  {
   "cell_type": "code",
   "execution_count": 18,
   "id": "09e9d5ba",
   "metadata": {},
   "outputs": [
    {
     "data": {
      "text/html": [
       "<div>\n",
       "<style scoped>\n",
       "    .dataframe tbody tr th:only-of-type {\n",
       "        vertical-align: middle;\n",
       "    }\n",
       "\n",
       "    .dataframe tbody tr th {\n",
       "        vertical-align: top;\n",
       "    }\n",
       "\n",
       "    .dataframe thead th {\n",
       "        text-align: right;\n",
       "    }\n",
       "</style>\n",
       "<table border=\"1\" class=\"dataframe\">\n",
       "  <thead>\n",
       "    <tr style=\"text-align: right;\">\n",
       "      <th></th>\n",
       "      <th>count</th>\n",
       "      <th>mean</th>\n",
       "      <th>std</th>\n",
       "      <th>min</th>\n",
       "      <th>25%</th>\n",
       "      <th>50%</th>\n",
       "      <th>75%</th>\n",
       "      <th>max</th>\n",
       "    </tr>\n",
       "  </thead>\n",
       "  <tbody>\n",
       "    <tr>\n",
       "      <th>AverageTemperature</th>\n",
       "      <td>328784.0</td>\n",
       "      <td>9.767931</td>\n",
       "      <td>13.931064</td>\n",
       "      <td>-45.389</td>\n",
       "      <td>0.399</td>\n",
       "      <td>12.196</td>\n",
       "      <td>20.91625</td>\n",
       "      <td>36.339</td>\n",
       "    </tr>\n",
       "    <tr>\n",
       "      <th>AverageTemperatureUncertainty</th>\n",
       "      <td>328784.0</td>\n",
       "      <td>0.417751</td>\n",
       "      <td>0.319615</td>\n",
       "      <td>0.036</td>\n",
       "      <td>0.238</td>\n",
       "      <td>0.330</td>\n",
       "      <td>0.48600</td>\n",
       "      <td>7.638</td>\n",
       "    </tr>\n",
       "    <tr>\n",
       "      <th>Year</th>\n",
       "      <td>328784.0</td>\n",
       "      <td>1956.344652</td>\n",
       "      <td>32.819143</td>\n",
       "      <td>1900.000</td>\n",
       "      <td>1928.000</td>\n",
       "      <td>1956.000</td>\n",
       "      <td>1985.00000</td>\n",
       "      <td>2013.000</td>\n",
       "    </tr>\n",
       "  </tbody>\n",
       "</table>\n",
       "</div>"
      ],
      "text/plain": [
       "                                  count         mean        std       min  \\\n",
       "AverageTemperature             328784.0     9.767931  13.931064   -45.389   \n",
       "AverageTemperatureUncertainty  328784.0     0.417751   0.319615     0.036   \n",
       "Year                           328784.0  1956.344652  32.819143  1900.000   \n",
       "\n",
       "                                    25%       50%         75%       max  \n",
       "AverageTemperature                0.399    12.196    20.91625    36.339  \n",
       "AverageTemperatureUncertainty     0.238     0.330     0.48600     7.638  \n",
       "Year                           1928.000  1956.000  1985.00000  2013.000  "
      ]
     },
     "execution_count": 18,
     "metadata": {},
     "output_type": "execute_result"
    }
   ],
   "source": [
    "Global_temp.describe().transpose()"
   ]
  },
  {
   "cell_type": "code",
   "execution_count": 19,
   "id": "e8b97650",
   "metadata": {},
   "outputs": [],
   "source": [
    "world_temp_byCountry = Global_temp.groupby(by='Country')[['AverageTemperature',\n",
    "                                             'AverageTemperatureUncertainty']].agg(lambda x: x.astype(float).mean())\n"
   ]
  },
  {
   "cell_type": "code",
   "execution_count": 20,
   "id": "7b63e343",
   "metadata": {},
   "outputs": [
    {
     "data": {
      "text/html": [
       "<div>\n",
       "<style scoped>\n",
       "    .dataframe tbody tr th:only-of-type {\n",
       "        vertical-align: middle;\n",
       "    }\n",
       "\n",
       "    .dataframe tbody tr th {\n",
       "        vertical-align: top;\n",
       "    }\n",
       "\n",
       "    .dataframe thead th {\n",
       "        text-align: right;\n",
       "    }\n",
       "</style>\n",
       "<table border=\"1\" class=\"dataframe\">\n",
       "  <thead>\n",
       "    <tr style=\"text-align: right;\">\n",
       "      <th></th>\n",
       "      <th>AverageTemperature</th>\n",
       "      <th>AverageTemperatureUncertainty</th>\n",
       "    </tr>\n",
       "    <tr>\n",
       "      <th>Country</th>\n",
       "      <th></th>\n",
       "      <th></th>\n",
       "    </tr>\n",
       "  </thead>\n",
       "  <tbody>\n",
       "    <tr>\n",
       "      <th>Australia</th>\n",
       "      <td>17.996412</td>\n",
       "      <td>0.289294</td>\n",
       "    </tr>\n",
       "    <tr>\n",
       "      <th>Brazil</th>\n",
       "      <td>24.074648</td>\n",
       "      <td>0.535003</td>\n",
       "    </tr>\n",
       "    <tr>\n",
       "      <th>Canada</th>\n",
       "      <td>-1.364440</td>\n",
       "      <td>0.488840</td>\n",
       "    </tr>\n",
       "    <tr>\n",
       "      <th>China</th>\n",
       "      <td>11.707587</td>\n",
       "      <td>0.437874</td>\n",
       "    </tr>\n",
       "    <tr>\n",
       "      <th>India</th>\n",
       "      <td>22.516690</td>\n",
       "      <td>0.408882</td>\n",
       "    </tr>\n",
       "    <tr>\n",
       "      <th>Russia</th>\n",
       "      <td>1.669950</td>\n",
       "      <td>0.486356</td>\n",
       "    </tr>\n",
       "    <tr>\n",
       "      <th>United States</th>\n",
       "      <td>11.062630</td>\n",
       "      <td>0.258448</td>\n",
       "    </tr>\n",
       "  </tbody>\n",
       "</table>\n",
       "</div>"
      ],
      "text/plain": [
       "               AverageTemperature  AverageTemperatureUncertainty\n",
       "Country                                                         \n",
       "Australia               17.996412                       0.289294\n",
       "Brazil                  24.074648                       0.535003\n",
       "Canada                  -1.364440                       0.488840\n",
       "China                   11.707587                       0.437874\n",
       "India                   22.516690                       0.408882\n",
       "Russia                   1.669950                       0.486356\n",
       "United States           11.062630                       0.258448"
      ]
     },
     "execution_count": 20,
     "metadata": {},
     "output_type": "execute_result"
    }
   ],
   "source": [
    "world_temp_byCountry"
   ]
  },
  {
   "cell_type": "code",
   "execution_count": 21,
   "id": "356f8394",
   "metadata": {
    "scrolled": false
   },
   "outputs": [
    {
     "data": {
      "image/png": "[encoded data removed]",
      "text/plain": [
       "<Figure size 640x480 with 1 Axes>"
      ]
     },
     "metadata": {},
     "output_type": "display_data"
    }
   ],
   "source": [
    "# Create the bar plot.\n",
    "ax =world_temp_byCountry.plot.bar (rot=0)"
   ]
  },
  {
   "cell_type": "code",
   "execution_count": 22,
   "id": "3721dbbb",
   "metadata": {
    "scrolled": true
   },
   "outputs": [
    {
     "data": {
      "text/html": [
       "<div>\n",
       "<style scoped>\n",
       "    .dataframe tbody tr th:only-of-type {\n",
       "        vertical-align: middle;\n",
       "    }\n",
       "\n",
       "    .dataframe tbody tr th {\n",
       "        vertical-align: top;\n",
       "    }\n",
       "\n",
       "    .dataframe thead th {\n",
       "        text-align: right;\n",
       "    }\n",
       "</style>\n",
       "<table border=\"1\" class=\"dataframe\">\n",
       "  <thead>\n",
       "    <tr style=\"text-align: right;\">\n",
       "      <th></th>\n",
       "      <th>AverageTemperature</th>\n",
       "      <th>AverageTemperatureUncertainty</th>\n",
       "    </tr>\n",
       "    <tr>\n",
       "      <th>Year</th>\n",
       "      <th></th>\n",
       "      <th></th>\n",
       "    </tr>\n",
       "  </thead>\n",
       "  <tbody>\n",
       "    <tr>\n",
       "      <th>1900</th>\n",
       "      <td>9.413617</td>\n",
       "      <td>0.829057</td>\n",
       "    </tr>\n",
       "    <tr>\n",
       "      <th>1901</th>\n",
       "      <td>9.538776</td>\n",
       "      <td>0.788373</td>\n",
       "    </tr>\n",
       "    <tr>\n",
       "      <th>1902</th>\n",
       "      <td>9.076432</td>\n",
       "      <td>0.764954</td>\n",
       "    </tr>\n",
       "    <tr>\n",
       "      <th>1903</th>\n",
       "      <td>9.414545</td>\n",
       "      <td>0.754537</td>\n",
       "    </tr>\n",
       "    <tr>\n",
       "      <th>1904</th>\n",
       "      <td>9.039092</td>\n",
       "      <td>0.735660</td>\n",
       "    </tr>\n",
       "  </tbody>\n",
       "</table>\n",
       "</div>"
      ],
      "text/plain": [
       "      AverageTemperature  AverageTemperatureUncertainty\n",
       "Year                                                   \n",
       "1900            9.413617                       0.829057\n",
       "1901            9.538776                       0.788373\n",
       "1902            9.076432                       0.764954\n",
       "1903            9.414545                       0.754537\n",
       "1904            9.039092                       0.735660"
      ]
     },
     "execution_count": 22,
     "metadata": {},
     "output_type": "execute_result"
    }
   ],
   "source": [
    "world_temp_by_year = Global_temp.groupby(by='Year')[['AverageTemperature',\n",
    "                                             'AverageTemperatureUncertainty']].agg(lambda x: x.astype(float).mean())\n",
    "world_temp_by_year.head()"
   ]
  },
  {
   "cell_type": "code",
   "execution_count": 23,
   "id": "e06658cd",
   "metadata": {},
   "outputs": [
    {
     "data": {
      "image/png": "[encoded data removed]",
      "text/plain": [
       "<Figure size 640x480 with 1 Axes>"
      ]
     },
     "metadata": {},
     "output_type": "display_data"
    }
   ],
   "source": [
    "# Create the bar plot.\n",
    "ax =world_temp_by_year.plot.line (rot=12)"
   ]
  },
  {
   "cell_type": "markdown",
   "id": "8f5f4610",
   "metadata": {},
   "source": [
    "## Preprocessing"
   ]
  },
  {
   "cell_type": "code",
   "execution_count": 24,
   "id": "9bfc63be",
   "metadata": {},
   "outputs": [
    {
     "data": {
      "text/html": [
       "<div>\n",
       "<style scoped>\n",
       "    .dataframe tbody tr th:only-of-type {\n",
       "        vertical-align: middle;\n",
       "    }\n",
       "\n",
       "    .dataframe tbody tr th {\n",
       "        vertical-align: top;\n",
       "    }\n",
       "\n",
       "    .dataframe thead th {\n",
       "        text-align: right;\n",
       "    }\n",
       "</style>\n",
       "<table border=\"1\" class=\"dataframe\">\n",
       "  <thead>\n",
       "    <tr style=\"text-align: right;\">\n",
       "      <th></th>\n",
       "      <th>AverageTemperature</th>\n",
       "      <th>AverageTemperatureUncertainty</th>\n",
       "      <th>State</th>\n",
       "      <th>Country</th>\n",
       "      <th>Date</th>\n",
       "      <th>Year</th>\n",
       "    </tr>\n",
       "  </thead>\n",
       "  <tbody>\n",
       "    <tr>\n",
       "      <th>0</th>\n",
       "      <td>25.732</td>\n",
       "      <td>1.080</td>\n",
       "      <td>Acre</td>\n",
       "      <td>Brazil</td>\n",
       "      <td>1900-01-01</td>\n",
       "      <td>1900</td>\n",
       "    </tr>\n",
       "    <tr>\n",
       "      <th>1</th>\n",
       "      <td>26.050</td>\n",
       "      <td>1.080</td>\n",
       "      <td>Acre</td>\n",
       "      <td>Brazil</td>\n",
       "      <td>1900-02-01</td>\n",
       "      <td>1900</td>\n",
       "    </tr>\n",
       "    <tr>\n",
       "      <th>2</th>\n",
       "      <td>26.574</td>\n",
       "      <td>0.894</td>\n",
       "      <td>Acre</td>\n",
       "      <td>Brazil</td>\n",
       "      <td>1900-03-01</td>\n",
       "      <td>1900</td>\n",
       "    </tr>\n",
       "    <tr>\n",
       "      <th>3</th>\n",
       "      <td>25.947</td>\n",
       "      <td>1.192</td>\n",
       "      <td>Acre</td>\n",
       "      <td>Brazil</td>\n",
       "      <td>1900-04-01</td>\n",
       "      <td>1900</td>\n",
       "    </tr>\n",
       "    <tr>\n",
       "      <th>4</th>\n",
       "      <td>25.557</td>\n",
       "      <td>0.856</td>\n",
       "      <td>Acre</td>\n",
       "      <td>Brazil</td>\n",
       "      <td>1900-05-01</td>\n",
       "      <td>1900</td>\n",
       "    </tr>\n",
       "  </tbody>\n",
       "</table>\n",
       "</div>"
      ],
      "text/plain": [
       "   AverageTemperature  AverageTemperatureUncertainty State Country       Date  \\\n",
       "0              25.732                          1.080  Acre  Brazil 1900-01-01   \n",
       "1              26.050                          1.080  Acre  Brazil 1900-02-01   \n",
       "2              26.574                          0.894  Acre  Brazil 1900-03-01   \n",
       "3              25.947                          1.192  Acre  Brazil 1900-04-01   \n",
       "4              25.557                          0.856  Acre  Brazil 1900-05-01   \n",
       "\n",
       "   Year  \n",
       "0  1900  \n",
       "1  1900  \n",
       "2  1900  \n",
       "3  1900  \n",
       "4  1900  "
      ]
     },
     "execution_count": 24,
     "metadata": {},
     "output_type": "execute_result"
    }
   ],
   "source": [
    "worldtemp_df.head()"
   ]
  },
  {
   "cell_type": "code",
   "execution_count": 25,
   "id": "ac21aae9",
   "metadata": {},
   "outputs": [
    {
     "data": {
      "text/plain": [
       "9.767931197990121"
      ]
     },
     "execution_count": 25,
     "metadata": {},
     "output_type": "execute_result"
    }
   ],
   "source": [
    "# Find Average temp\n",
    "worldtemp_df_avg_temp = worldtemp_df[\"AverageTemperature\"].mean()\n",
    "worldtemp_df_avg_temp"
   ]
  },
  {
   "cell_type": "code",
   "execution_count": 26,
   "id": "5f955224",
   "metadata": {},
   "outputs": [
    {
     "data": {
      "text/html": [
       "<div>\n",
       "<style scoped>\n",
       "    .dataframe tbody tr th:only-of-type {\n",
       "        vertical-align: middle;\n",
       "    }\n",
       "\n",
       "    .dataframe tbody tr th {\n",
       "        vertical-align: top;\n",
       "    }\n",
       "\n",
       "    .dataframe thead th {\n",
       "        text-align: right;\n",
       "    }\n",
       "</style>\n",
       "<table border=\"1\" class=\"dataframe\">\n",
       "  <thead>\n",
       "    <tr style=\"text-align: right;\">\n",
       "      <th></th>\n",
       "      <th>AverageTemperature</th>\n",
       "      <th>AverageTemperatureUncertainty</th>\n",
       "      <th>State</th>\n",
       "      <th>Country</th>\n",
       "      <th>Date</th>\n",
       "      <th>Year</th>\n",
       "      <th>Above Avg Temp</th>\n",
       "    </tr>\n",
       "  </thead>\n",
       "  <tbody>\n",
       "    <tr>\n",
       "      <th>0</th>\n",
       "      <td>25.732</td>\n",
       "      <td>1.080</td>\n",
       "      <td>Acre</td>\n",
       "      <td>Brazil</td>\n",
       "      <td>1900-01-01</td>\n",
       "      <td>1900</td>\n",
       "      <td>1</td>\n",
       "    </tr>\n",
       "    <tr>\n",
       "      <th>1</th>\n",
       "      <td>26.050</td>\n",
       "      <td>1.080</td>\n",
       "      <td>Acre</td>\n",
       "      <td>Brazil</td>\n",
       "      <td>1900-02-01</td>\n",
       "      <td>1900</td>\n",
       "      <td>1</td>\n",
       "    </tr>\n",
       "    <tr>\n",
       "      <th>2</th>\n",
       "      <td>26.574</td>\n",
       "      <td>0.894</td>\n",
       "      <td>Acre</td>\n",
       "      <td>Brazil</td>\n",
       "      <td>1900-03-01</td>\n",
       "      <td>1900</td>\n",
       "      <td>1</td>\n",
       "    </tr>\n",
       "    <tr>\n",
       "      <th>3</th>\n",
       "      <td>25.947</td>\n",
       "      <td>1.192</td>\n",
       "      <td>Acre</td>\n",
       "      <td>Brazil</td>\n",
       "      <td>1900-04-01</td>\n",
       "      <td>1900</td>\n",
       "      <td>1</td>\n",
       "    </tr>\n",
       "    <tr>\n",
       "      <th>4</th>\n",
       "      <td>25.557</td>\n",
       "      <td>0.856</td>\n",
       "      <td>Acre</td>\n",
       "      <td>Brazil</td>\n",
       "      <td>1900-05-01</td>\n",
       "      <td>1900</td>\n",
       "      <td>1</td>\n",
       "    </tr>\n",
       "  </tbody>\n",
       "</table>\n",
       "</div>"
      ],
      "text/plain": [
       "   AverageTemperature  AverageTemperatureUncertainty State Country       Date  \\\n",
       "0              25.732                          1.080  Acre  Brazil 1900-01-01   \n",
       "1              26.050                          1.080  Acre  Brazil 1900-02-01   \n",
       "2              26.574                          0.894  Acre  Brazil 1900-03-01   \n",
       "3              25.947                          1.192  Acre  Brazil 1900-04-01   \n",
       "4              25.557                          0.856  Acre  Brazil 1900-05-01   \n",
       "\n",
       "   Year Above Avg Temp  \n",
       "0  1900              1  \n",
       "1  1900              1  \n",
       "2  1900              1  \n",
       "3  1900              1  \n",
       "4  1900              1  "
      ]
     },
     "execution_count": 26,
     "metadata": {},
     "output_type": "execute_result"
    }
   ],
   "source": [
    "#Adding a new column where 1 is above avg temp values and 0 below avg temp values\n",
    "worldtemp_df['Above Avg Temp']= worldtemp_df['AverageTemperature'].apply(lambda x: '1' if x >= worldtemp_df['AverageTemperature'].mean() else '0')\n",
    "                \n",
    "worldtemp_df.head()"
   ]
  },
  {
   "cell_type": "code",
   "execution_count": 27,
   "id": "c8a95e27",
   "metadata": {},
   "outputs": [
    {
     "data": {
      "text/html": [
       "<div>\n",
       "<style scoped>\n",
       "    .dataframe tbody tr th:only-of-type {\n",
       "        vertical-align: middle;\n",
       "    }\n",
       "\n",
       "    .dataframe tbody tr th {\n",
       "        vertical-align: top;\n",
       "    }\n",
       "\n",
       "    .dataframe thead th {\n",
       "        text-align: right;\n",
       "    }\n",
       "</style>\n",
       "<table border=\"1\" class=\"dataframe\">\n",
       "  <thead>\n",
       "    <tr style=\"text-align: right;\">\n",
       "      <th></th>\n",
       "      <th>Above Avg Temp</th>\n",
       "      <th>AverageTemperatureUncertainty</th>\n",
       "      <th>Country</th>\n",
       "      <th>State</th>\n",
       "      <th>Year</th>\n",
       "    </tr>\n",
       "  </thead>\n",
       "  <tbody>\n",
       "    <tr>\n",
       "      <th>0</th>\n",
       "      <td>1</td>\n",
       "      <td>1.080</td>\n",
       "      <td>Brazil</td>\n",
       "      <td>Acre</td>\n",
       "      <td>1900</td>\n",
       "    </tr>\n",
       "    <tr>\n",
       "      <th>1</th>\n",
       "      <td>1</td>\n",
       "      <td>1.080</td>\n",
       "      <td>Brazil</td>\n",
       "      <td>Acre</td>\n",
       "      <td>1900</td>\n",
       "    </tr>\n",
       "    <tr>\n",
       "      <th>2</th>\n",
       "      <td>1</td>\n",
       "      <td>0.894</td>\n",
       "      <td>Brazil</td>\n",
       "      <td>Acre</td>\n",
       "      <td>1900</td>\n",
       "    </tr>\n",
       "    <tr>\n",
       "      <th>3</th>\n",
       "      <td>1</td>\n",
       "      <td>1.192</td>\n",
       "      <td>Brazil</td>\n",
       "      <td>Acre</td>\n",
       "      <td>1900</td>\n",
       "    </tr>\n",
       "    <tr>\n",
       "      <th>4</th>\n",
       "      <td>1</td>\n",
       "      <td>0.856</td>\n",
       "      <td>Brazil</td>\n",
       "      <td>Acre</td>\n",
       "      <td>1900</td>\n",
       "    </tr>\n",
       "  </tbody>\n",
       "</table>\n",
       "</div>"
      ],
      "text/plain": [
       "  Above Avg Temp  AverageTemperatureUncertainty Country State  Year\n",
       "0              1                          1.080  Brazil  Acre  1900\n",
       "1              1                          1.080  Brazil  Acre  1900\n",
       "2              1                          0.894  Brazil  Acre  1900\n",
       "3              1                          1.192  Brazil  Acre  1900\n",
       "4              1                          0.856  Brazil  Acre  1900"
      ]
     },
     "execution_count": 27,
     "metadata": {},
     "output_type": "execute_result"
    }
   ],
   "source": [
    "#  Remove all the non numeric value columns\n",
    "ml_df= worldtemp_df[['Above Avg Temp','AverageTemperatureUncertainty','Country','State', 'Year']]\n",
    "\n",
    "ml_df.head()"
   ]
  },
  {
   "cell_type": "code",
   "execution_count": 28,
   "id": "bb06e48c",
   "metadata": {},
   "outputs": [],
   "source": [
    "wTemp_df = ml_df.copy()"
   ]
  },
  {
   "cell_type": "code",
   "execution_count": 29,
   "id": "eae3d441",
   "metadata": {},
   "outputs": [
    {
     "data": {
      "text/html": [
       "<div>\n",
       "<style scoped>\n",
       "    .dataframe tbody tr th:only-of-type {\n",
       "        vertical-align: middle;\n",
       "    }\n",
       "\n",
       "    .dataframe tbody tr th {\n",
       "        vertical-align: top;\n",
       "    }\n",
       "\n",
       "    .dataframe thead th {\n",
       "        text-align: right;\n",
       "    }\n",
       "</style>\n",
       "<table border=\"1\" class=\"dataframe\">\n",
       "  <thead>\n",
       "    <tr style=\"text-align: right;\">\n",
       "      <th></th>\n",
       "      <th>Above Avg Temp</th>\n",
       "      <th>AverageTemperatureUncertainty</th>\n",
       "      <th>Country</th>\n",
       "      <th>State</th>\n",
       "      <th>Year</th>\n",
       "    </tr>\n",
       "  </thead>\n",
       "  <tbody>\n",
       "    <tr>\n",
       "      <th>0</th>\n",
       "      <td>1</td>\n",
       "      <td>1.080</td>\n",
       "      <td>Brazil</td>\n",
       "      <td>0</td>\n",
       "      <td>1900</td>\n",
       "    </tr>\n",
       "    <tr>\n",
       "      <th>1</th>\n",
       "      <td>1</td>\n",
       "      <td>1.080</td>\n",
       "      <td>Brazil</td>\n",
       "      <td>0</td>\n",
       "      <td>1900</td>\n",
       "    </tr>\n",
       "    <tr>\n",
       "      <th>2</th>\n",
       "      <td>1</td>\n",
       "      <td>0.894</td>\n",
       "      <td>Brazil</td>\n",
       "      <td>0</td>\n",
       "      <td>1900</td>\n",
       "    </tr>\n",
       "    <tr>\n",
       "      <th>3</th>\n",
       "      <td>1</td>\n",
       "      <td>1.192</td>\n",
       "      <td>Brazil</td>\n",
       "      <td>0</td>\n",
       "      <td>1900</td>\n",
       "    </tr>\n",
       "    <tr>\n",
       "      <th>4</th>\n",
       "      <td>1</td>\n",
       "      <td>0.856</td>\n",
       "      <td>Brazil</td>\n",
       "      <td>0</td>\n",
       "      <td>1900</td>\n",
       "    </tr>\n",
       "  </tbody>\n",
       "</table>\n",
       "</div>"
      ],
      "text/plain": [
       "  Above Avg Temp  AverageTemperatureUncertainty Country  State  Year\n",
       "0              1                          1.080  Brazil      0  1900\n",
       "1              1                          1.080  Brazil      0  1900\n",
       "2              1                          0.894  Brazil      0  1900\n",
       "3              1                          1.192  Brazil      0  1900\n",
       "4              1                          0.856  Brazil      0  1900"
      ]
     },
     "execution_count": 29,
     "metadata": {},
     "output_type": "execute_result"
    }
   ],
   "source": [
    "#Transforming the column 'State' from text to numerical value\n",
    "from sklearn.preprocessing import LabelEncoder\n",
    "le = LabelEncoder()\n",
    "\n",
    "wTemp_df['State'] = le.fit_transform(wTemp_df['State'])\n",
    "wTemp_df.head()"
   ]
  },
  {
   "cell_type": "code",
   "execution_count": 30,
   "id": "5cc47151",
   "metadata": {},
   "outputs": [
    {
     "data": {
      "text/html": [
       "<div>\n",
       "<style scoped>\n",
       "    .dataframe tbody tr th:only-of-type {\n",
       "        vertical-align: middle;\n",
       "    }\n",
       "\n",
       "    .dataframe tbody tr th {\n",
       "        vertical-align: top;\n",
       "    }\n",
       "\n",
       "    .dataframe thead th {\n",
       "        text-align: right;\n",
       "    }\n",
       "</style>\n",
       "<table border=\"1\" class=\"dataframe\">\n",
       "  <thead>\n",
       "    <tr style=\"text-align: right;\">\n",
       "      <th></th>\n",
       "      <th>Above Avg Temp</th>\n",
       "      <th>AverageTemperatureUncertainty</th>\n",
       "      <th>Country</th>\n",
       "      <th>State</th>\n",
       "      <th>Year</th>\n",
       "    </tr>\n",
       "  </thead>\n",
       "  <tbody>\n",
       "    <tr>\n",
       "      <th>0</th>\n",
       "      <td>1</td>\n",
       "      <td>1.080</td>\n",
       "      <td>1</td>\n",
       "      <td>0</td>\n",
       "      <td>1900</td>\n",
       "    </tr>\n",
       "    <tr>\n",
       "      <th>1</th>\n",
       "      <td>1</td>\n",
       "      <td>1.080</td>\n",
       "      <td>1</td>\n",
       "      <td>0</td>\n",
       "      <td>1900</td>\n",
       "    </tr>\n",
       "    <tr>\n",
       "      <th>2</th>\n",
       "      <td>1</td>\n",
       "      <td>0.894</td>\n",
       "      <td>1</td>\n",
       "      <td>0</td>\n",
       "      <td>1900</td>\n",
       "    </tr>\n",
       "    <tr>\n",
       "      <th>3</th>\n",
       "      <td>1</td>\n",
       "      <td>1.192</td>\n",
       "      <td>1</td>\n",
       "      <td>0</td>\n",
       "      <td>1900</td>\n",
       "    </tr>\n",
       "    <tr>\n",
       "      <th>4</th>\n",
       "      <td>1</td>\n",
       "      <td>0.856</td>\n",
       "      <td>1</td>\n",
       "      <td>0</td>\n",
       "      <td>1900</td>\n",
       "    </tr>\n",
       "  </tbody>\n",
       "</table>\n",
       "</div>"
      ],
      "text/plain": [
       "  Above Avg Temp  AverageTemperatureUncertainty  Country  State  Year\n",
       "0              1                          1.080        1      0  1900\n",
       "1              1                          1.080        1      0  1900\n",
       "2              1                          0.894        1      0  1900\n",
       "3              1                          1.192        1      0  1900\n",
       "4              1                          0.856        1      0  1900"
      ]
     },
     "execution_count": 30,
     "metadata": {},
     "output_type": "execute_result"
    }
   ],
   "source": [
    "#Transforming the column 'Country' from text to numerical value\n",
    "le = LabelEncoder()\n",
    "\n",
    "wTemp_df['Country'] = le.fit_transform(wTemp_df['Country'])\n",
    "wTemp_df.head()"
   ]
  },
  {
   "cell_type": "markdown",
   "id": "d5a24bc3",
   "metadata": {},
   "source": [
    "## Split the Data into Training and Testing"
   ]
  },
  {
   "cell_type": "code",
   "execution_count": 31,
   "id": "f86bb44d",
   "metadata": {},
   "outputs": [],
   "source": [
    "# Create our features\n",
    "X = wTemp_df.drop(columns=\"Above Avg Temp\", axis=1)\n",
    "\n",
    "\n",
    "# Create our target\n",
    "y = wTemp_df[\"Above Avg Temp\"]"
   ]
  },
  {
   "cell_type": "code",
   "execution_count": 32,
   "id": "778e7720",
   "metadata": {
    "scrolled": true
   },
   "outputs": [
    {
     "data": {
      "text/html": [
       "<div>\n",
       "<style scoped>\n",
       "    .dataframe tbody tr th:only-of-type {\n",
       "        vertical-align: middle;\n",
       "    }\n",
       "\n",
       "    .dataframe tbody tr th {\n",
       "        vertical-align: top;\n",
       "    }\n",
       "\n",
       "    .dataframe thead th {\n",
       "        text-align: right;\n",
       "    }\n",
       "</style>\n",
       "<table border=\"1\" class=\"dataframe\">\n",
       "  <thead>\n",
       "    <tr style=\"text-align: right;\">\n",
       "      <th></th>\n",
       "      <th>AverageTemperatureUncertainty</th>\n",
       "      <th>Country</th>\n",
       "      <th>State</th>\n",
       "      <th>Year</th>\n",
       "    </tr>\n",
       "  </thead>\n",
       "  <tbody>\n",
       "    <tr>\n",
       "      <th>count</th>\n",
       "      <td>328784.000000</td>\n",
       "      <td>328784.000000</td>\n",
       "      <td>328784.000000</td>\n",
       "      <td>328784.000000</td>\n",
       "    </tr>\n",
       "    <tr>\n",
       "      <th>mean</th>\n",
       "      <td>0.417751</td>\n",
       "      <td>4.232554</td>\n",
       "      <td>120.001116</td>\n",
       "      <td>1956.344652</td>\n",
       "    </tr>\n",
       "    <tr>\n",
       "      <th>std</th>\n",
       "      <td>0.319615</td>\n",
       "      <td>1.618137</td>\n",
       "      <td>69.569404</td>\n",
       "      <td>32.819143</td>\n",
       "    </tr>\n",
       "    <tr>\n",
       "      <th>min</th>\n",
       "      <td>0.036000</td>\n",
       "      <td>0.000000</td>\n",
       "      <td>0.000000</td>\n",
       "      <td>1900.000000</td>\n",
       "    </tr>\n",
       "    <tr>\n",
       "      <th>25%</th>\n",
       "      <td>0.238000</td>\n",
       "      <td>3.000000</td>\n",
       "      <td>60.000000</td>\n",
       "      <td>1928.000000</td>\n",
       "    </tr>\n",
       "    <tr>\n",
       "      <th>50%</th>\n",
       "      <td>0.330000</td>\n",
       "      <td>5.000000</td>\n",
       "      <td>120.000000</td>\n",
       "      <td>1956.000000</td>\n",
       "    </tr>\n",
       "    <tr>\n",
       "      <th>75%</th>\n",
       "      <td>0.486000</td>\n",
       "      <td>5.000000</td>\n",
       "      <td>180.000000</td>\n",
       "      <td>1985.000000</td>\n",
       "    </tr>\n",
       "    <tr>\n",
       "      <th>max</th>\n",
       "      <td>7.638000</td>\n",
       "      <td>6.000000</td>\n",
       "      <td>240.000000</td>\n",
       "      <td>2013.000000</td>\n",
       "    </tr>\n",
       "  </tbody>\n",
       "</table>\n",
       "</div>"
      ],
      "text/plain": [
       "       AverageTemperatureUncertainty        Country          State  \\\n",
       "count                  328784.000000  328784.000000  328784.000000   \n",
       "mean                        0.417751       4.232554     120.001116   \n",
       "std                         0.319615       1.618137      69.569404   \n",
       "min                         0.036000       0.000000       0.000000   \n",
       "25%                         0.238000       3.000000      60.000000   \n",
       "50%                         0.330000       5.000000     120.000000   \n",
       "75%                         0.486000       5.000000     180.000000   \n",
       "max                         7.638000       6.000000     240.000000   \n",
       "\n",
       "                Year  \n",
       "count  328784.000000  \n",
       "mean     1956.344652  \n",
       "std        32.819143  \n",
       "min      1900.000000  \n",
       "25%      1928.000000  \n",
       "50%      1956.000000  \n",
       "75%      1985.000000  \n",
       "max      2013.000000  "
      ]
     },
     "execution_count": 32,
     "metadata": {},
     "output_type": "execute_result"
    }
   ],
   "source": [
    "X.describe()"
   ]
  },
  {
   "cell_type": "code",
   "execution_count": 33,
   "id": "c3db420f",
   "metadata": {},
   "outputs": [
    {
     "data": {
      "text/plain": [
       "1    184179\n",
       "0    144605\n",
       "Name: Above Avg Temp, dtype: int64"
      ]
     },
     "execution_count": 33,
     "metadata": {},
     "output_type": "execute_result"
    }
   ],
   "source": [
    "# Check the balance of our target values\n",
    "y.value_counts()"
   ]
  },
  {
   "cell_type": "code",
   "execution_count": 34,
   "id": "8cf2e50b",
   "metadata": {},
   "outputs": [
    {
     "data": {
      "text/plain": [
       "(246588, 4)"
      ]
     },
     "execution_count": 34,
     "metadata": {},
     "output_type": "execute_result"
    }
   ],
   "source": [
    "#Split the data into training and testing\n",
    "from sklearn.model_selection import train_test_split\n",
    "X_train, X_test, y_train, y_test = train_test_split(X, \n",
    "                                                    y, \n",
    "                                                    random_state=1, \n",
    "                                                    stratify=y)\n",
    "X_train.shape"
   ]
  },
  {
   "cell_type": "code",
   "execution_count": 35,
   "id": "0fd65f80",
   "metadata": {},
   "outputs": [
    {
     "data": {
      "image/png": "[encoded data removed]",
      "text/plain": [
       "<Figure size 2000x2000 with 5 Axes>"
      ]
     },
     "metadata": {},
     "output_type": "display_data"
    }
   ],
   "source": [
    "#Visualize the features histogram\n",
    "colors = list(mcolors.CSS4_COLORS.keys())[10:]\n",
    "def draw_histograms(dataframe, features, rows, cols):\n",
    "    fig=plt.figure(figsize=(20,20))\n",
    "    for i, feature in enumerate(features):\n",
    "        ax=fig.add_subplot(rows,cols,i+1)\n",
    "        dataframe[feature].hist(bins=20,ax=ax,facecolor=colors[i])\n",
    "        ax.set_title(feature+\" Histogram\",color=colors[35])\n",
    "        ax.set_yscale('log')\n",
    "    fig.tight_layout() \n",
    "    plt.savefig('Histograms.png')\n",
    "    plt.show()\n",
    "draw_histograms(wTemp_df,wTemp_df.columns,8,4)"
   ]
  },
  {
   "cell_type": "code",
   "execution_count": 36,
   "id": "4468e256",
   "metadata": {},
   "outputs": [
    {
     "data": {
      "image/png": "[encoded data removed]",
      "text/plain": [
       "<Figure size 2000x1000 with 2 Axes>"
      ]
     },
     "metadata": {},
     "output_type": "display_data"
    }
   ],
   "source": [
    "#Observe the dependency of variables on each other by studying their correlation\n",
    "plt.figure(figsize = (20,10))\n",
    "sns.heatmap(wTemp_df.corr(), annot = True)\n",
    "plt.savefig('heatmap.png')\n",
    "plt.show()"
   ]
  },
  {
   "cell_type": "markdown",
   "id": "a13e9f22",
   "metadata": {},
   "source": [
    "## Create a Random Forest model"
   ]
  },
  {
   "cell_type": "code",
   "execution_count": 37,
   "id": "2f21aa72",
   "metadata": {},
   "outputs": [],
   "source": [
    "# Create a random forest classifier.\n",
    "rf_model = RandomForestClassifier(n_estimators=128, random_state=78) "
   ]
  },
  {
   "cell_type": "code",
   "execution_count": 38,
   "id": "3f90415d",
   "metadata": {},
   "outputs": [],
   "source": [
    "# Fitting the model\n",
    "rf_model = rf_model.fit(X_train, y_train)"
   ]
  },
  {
   "cell_type": "code",
   "execution_count": 39,
   "id": "86b88858",
   "metadata": {},
   "outputs": [],
   "source": [
    "# Making predictions using the testing data.\n",
    "y_pred = rf_model.predict(X_test)"
   ]
  },
  {
   "cell_type": "code",
   "execution_count": 40,
   "id": "2c37b2e1",
   "metadata": {},
   "outputs": [
    {
     "name": "stdout",
     "output_type": "stream",
     "text": [
      "The Accuracy for Test Set is 71.01927101075478\n"
     ]
    }
   ],
   "source": [
    "# Calculated the balanced accuracy score\n",
    "from sklearn.metrics import accuracy_score\n",
    "test_acc = accuracy_score(y_test, y_pred)\n",
    "print(\"The Accuracy for Test Set is {}\".format(test_acc*100))"
   ]
  },
  {
   "cell_type": "code",
   "execution_count": 41,
   "id": "da6efa5d",
   "metadata": {},
   "outputs": [
    {
     "name": "stdout",
     "output_type": "stream",
     "text": [
      "              precision    recall  f1-score   support\n",
      "\n",
      "           0       0.66      0.70      0.68     36151\n",
      "           1       0.75      0.72      0.73     46045\n",
      "\n",
      "    accuracy                           0.71     82196\n",
      "   macro avg       0.71      0.71      0.71     82196\n",
      "weighted avg       0.71      0.71      0.71     82196\n",
      "\n"
     ]
    }
   ],
   "source": [
    "# Print the classification report\n",
    "report = classification_report(y_test, y_pred)\n",
    "print(report)"
   ]
  },
  {
   "cell_type": "code",
   "execution_count": 42,
   "id": "8a8bce43",
   "metadata": {},
   "outputs": [
    {
     "name": "stdout",
     "output_type": "stream",
     "text": [
      "[[25373 10778]\n",
      " [13043 33002]]\n"
     ]
    }
   ],
   "source": [
    "# Display the confusion matrix\n",
    "from sklearn.metrics import confusion_matrix, classification_report\n",
    "matrix = confusion_matrix(y_test, y_pred)\n",
    "print(matrix)"
   ]
  },
  {
   "cell_type": "code",
   "execution_count": 43,
   "id": "c4c9801d",
   "metadata": {},
   "outputs": [],
   "source": [
    "# Calculating the confusion matrix.\n",
    "cm = confusion_matrix(y_test, y_pred)\n",
    "\n",
    "# Create a DataFrame from the confusion matrix.\n",
    "cm_df = pd.DataFrame(\n",
    "    cm, index=[\"Actual 0\", \"Actual 1\"], columns=[\"Predicted 0\", \"Predicted 1\"])\n",
    "\n",
    "cm_df\n",
    "# Calculating the accuracy score\n",
    "acc_score = accuracy_score(y_test, y_pred)"
   ]
  },
  {
   "cell_type": "code",
   "execution_count": 44,
   "id": "89063bdc",
   "metadata": {},
   "outputs": [
    {
     "name": "stdout",
     "output_type": "stream",
     "text": [
      "Confusion Matrix\n"
     ]
    },
    {
     "data": {
      "text/html": [
       "<div>\n",
       "<style scoped>\n",
       "    .dataframe tbody tr th:only-of-type {\n",
       "        vertical-align: middle;\n",
       "    }\n",
       "\n",
       "    .dataframe tbody tr th {\n",
       "        vertical-align: top;\n",
       "    }\n",
       "\n",
       "    .dataframe thead th {\n",
       "        text-align: right;\n",
       "    }\n",
       "</style>\n",
       "<table border=\"1\" class=\"dataframe\">\n",
       "  <thead>\n",
       "    <tr style=\"text-align: right;\">\n",
       "      <th></th>\n",
       "      <th>Predicted 0</th>\n",
       "      <th>Predicted 1</th>\n",
       "    </tr>\n",
       "  </thead>\n",
       "  <tbody>\n",
       "    <tr>\n",
       "      <th>Actual 0</th>\n",
       "      <td>25373</td>\n",
       "      <td>10778</td>\n",
       "    </tr>\n",
       "    <tr>\n",
       "      <th>Actual 1</th>\n",
       "      <td>13043</td>\n",
       "      <td>33002</td>\n",
       "    </tr>\n",
       "  </tbody>\n",
       "</table>\n",
       "</div>"
      ],
      "text/plain": [
       "          Predicted 0  Predicted 1\n",
       "Actual 0        25373        10778\n",
       "Actual 1        13043        33002"
      ]
     },
     "metadata": {},
     "output_type": "display_data"
    },
    {
     "name": "stdout",
     "output_type": "stream",
     "text": [
      "Accuracy Score : 0.7101927101075478\n",
      "Classification Report\n",
      "              precision    recall  f1-score   support\n",
      "\n",
      "           0       0.66      0.70      0.68     36151\n",
      "           1       0.75      0.72      0.73     46045\n",
      "\n",
      "    accuracy                           0.71     82196\n",
      "   macro avg       0.71      0.71      0.71     82196\n",
      "weighted avg       0.71      0.71      0.71     82196\n",
      "\n"
     ]
    }
   ],
   "source": [
    "# Displaying results\n",
    "print(\"Confusion Matrix\")\n",
    "display(cm_df)\n",
    "print(f\"Accuracy Score : {acc_score}\")\n",
    "print(\"Classification Report\")\n",
    "print(classification_report(y_test, y_pred))"
   ]
  },
  {
   "cell_type": "code",
   "execution_count": 45,
   "id": "5f17e879",
   "metadata": {},
   "outputs": [
    {
     "data": {
      "image/png": "[encoded data removed]",
      "text/plain": [
       "<Figure size 1200x600 with 2 Axes>"
      ]
     },
     "metadata": {},
     "output_type": "display_data"
    }
   ],
   "source": [
    "# Display the confusion matrix graph\n",
    "cm=confusion_matrix(y_test,y_pred)\n",
    "plt.figure(figsize=(12,6))\n",
    "plt.title(\"Random Forest Confusion Matrix\")\n",
    "sns.heatmap(cm, annot=True,fmt='d', cmap='Purples')\n",
    "plt.ylabel(\"Actual Values\")\n",
    "plt.xlabel(\"Predicted Values\")\n",
    "plt.savefig('RF_confusion_matrix.png')"
   ]
  },
  {
   "cell_type": "code",
   "execution_count": 46,
   "id": "c98cbb76",
   "metadata": {},
   "outputs": [
    {
     "name": "stdout",
     "output_type": "stream",
     "text": [
      "AverageTemperatureUncertainty: (0.36085115372033477)\n",
      "Year: (0.21958864244658743)\n",
      "Country: (0.20989706071406417)\n",
      "State: (0.20966314311901363)\n"
     ]
    }
   ],
   "source": [
    "# List the features sorted in descending order by feature importance\n",
    "features = sorted(zip(rf_model.feature_importances_, X.columns), reverse=True)\n",
    "for feature in features:\n",
    "    print(f\"{feature[1]}: ({feature[0]})\")"
   ]
  },
  {
   "cell_type": "code",
   "execution_count": null,
   "id": "348e5e94",
   "metadata": {},
   "outputs": [],
   "source": []
  }
 ],
 "metadata": {
  "kernelspec": {
   "display_name": "mlenv",
   "language": "python",
   "name": "mlenv"
  },
  "language_info": {
   "codemirror_mode": {
    "name": "ipython",
    "version": 3
   },
   "file_extension": ".py",
   "mimetype": "text/x-python",
   "name": "python",
   "nbconvert_exporter": "python",
   "pygments_lexer": "ipython3",
   "version": "3.7.15"
  }
 },
 "nbformat": 4,
 "nbformat_minor": 5
}
