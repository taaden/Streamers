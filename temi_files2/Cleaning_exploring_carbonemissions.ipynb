{
 "cells": [
  {
   "cell_type": "code",
   "execution_count": 1,
   "id": "bdba0034",
   "metadata": {},
   "outputs": [],
   "source": [
    "import pandas as pd\n",
    "from pathlib import Path\n",
    "import pandas as pd\n",
    "import numpy as np\n",
    "import plotly.express as px\n",
    "import plotly.graph_objects as go\n",
    "import matplotlib.pyplot as plt\n",
    "%matplotlib inline\n",
    "import datetime"
   ]
  },
  {
   "cell_type": "code",
   "execution_count": 2,
   "id": "ccbd02f8",
   "metadata": {
    "scrolled": true
   },
   "outputs": [
    {
     "data": {
      "text/html": [
       "<div>\n",
       "<style scoped>\n",
       "    .dataframe tbody tr th:only-of-type {\n",
       "        vertical-align: middle;\n",
       "    }\n",
       "\n",
       "    .dataframe tbody tr th {\n",
       "        vertical-align: top;\n",
       "    }\n",
       "\n",
       "    .dataframe thead th {\n",
       "        text-align: right;\n",
       "    }\n",
       "</style>\n",
       "<table border=\"1\" class=\"dataframe\">\n",
       "  <thead>\n",
       "    <tr style=\"text-align: right;\">\n",
       "      <th></th>\n",
       "      <th>Country</th>\n",
       "      <th>Data source</th>\n",
       "      <th>Sector</th>\n",
       "      <th>Gas</th>\n",
       "      <th>Unit</th>\n",
       "      <th>2018</th>\n",
       "      <th>2017</th>\n",
       "      <th>2016</th>\n",
       "      <th>2015</th>\n",
       "      <th>2014</th>\n",
       "      <th>...</th>\n",
       "      <th>1999</th>\n",
       "      <th>1998</th>\n",
       "      <th>1997</th>\n",
       "      <th>1996</th>\n",
       "      <th>1995</th>\n",
       "      <th>1994</th>\n",
       "      <th>1993</th>\n",
       "      <th>1992</th>\n",
       "      <th>1991</th>\n",
       "      <th>1990</th>\n",
       "    </tr>\n",
       "  </thead>\n",
       "  <tbody>\n",
       "    <tr>\n",
       "      <th>0</th>\n",
       "      <td>World</td>\n",
       "      <td>CAIT</td>\n",
       "      <td>Total including LUCF</td>\n",
       "      <td>CO2</td>\n",
       "      <td>MtCO₂e</td>\n",
       "      <td>36441.55</td>\n",
       "      <td>35588.70</td>\n",
       "      <td>35160.60</td>\n",
       "      <td>34521.91</td>\n",
       "      <td>34558.59</td>\n",
       "      <td>...</td>\n",
       "      <td>24957.30</td>\n",
       "      <td>24895.32</td>\n",
       "      <td>25292.92</td>\n",
       "      <td>24214.92</td>\n",
       "      <td>23890.22</td>\n",
       "      <td>23260.29</td>\n",
       "      <td>23124.00</td>\n",
       "      <td>22988.29</td>\n",
       "      <td>23056.40</td>\n",
       "      <td>22849.92</td>\n",
       "    </tr>\n",
       "    <tr>\n",
       "      <th>1</th>\n",
       "      <td>China</td>\n",
       "      <td>CAIT</td>\n",
       "      <td>Total including LUCF</td>\n",
       "      <td>CO2</td>\n",
       "      <td>MtCO₂e</td>\n",
       "      <td>9663.36</td>\n",
       "      <td>9367.67</td>\n",
       "      <td>9164.21</td>\n",
       "      <td>9120.27</td>\n",
       "      <td>9184.77</td>\n",
       "      <td>...</td>\n",
       "      <td>2799.84</td>\n",
       "      <td>2882.75</td>\n",
       "      <td>2779.27</td>\n",
       "      <td>2715.50</td>\n",
       "      <td>2735.48</td>\n",
       "      <td>2414.50</td>\n",
       "      <td>2294.12</td>\n",
       "      <td>2068.77</td>\n",
       "      <td>1952.78</td>\n",
       "      <td>1823.96</td>\n",
       "    </tr>\n",
       "    <tr>\n",
       "      <th>2</th>\n",
       "      <td>United States</td>\n",
       "      <td>CAIT</td>\n",
       "      <td>Total including LUCF</td>\n",
       "      <td>CO2</td>\n",
       "      <td>MtCO₂e</td>\n",
       "      <td>4749.57</td>\n",
       "      <td>4581.90</td>\n",
       "      <td>4656.84</td>\n",
       "      <td>4563.52</td>\n",
       "      <td>4683.35</td>\n",
       "      <td>...</td>\n",
       "      <td>5191.66</td>\n",
       "      <td>5172.06</td>\n",
       "      <td>5129.29</td>\n",
       "      <td>4864.46</td>\n",
       "      <td>4708.31</td>\n",
       "      <td>4654.52</td>\n",
       "      <td>4581.76</td>\n",
       "      <td>4461.62</td>\n",
       "      <td>4389.50</td>\n",
       "      <td>4426.40</td>\n",
       "    </tr>\n",
       "    <tr>\n",
       "      <th>3</th>\n",
       "      <td>European Union (27)</td>\n",
       "      <td>CAIT</td>\n",
       "      <td>Total including LUCF</td>\n",
       "      <td>CO2</td>\n",
       "      <td>MtCO₂e</td>\n",
       "      <td>2636.99</td>\n",
       "      <td>2692.12</td>\n",
       "      <td>2669.54</td>\n",
       "      <td>2321.61</td>\n",
       "      <td>2263.78</td>\n",
       "      <td>...</td>\n",
       "      <td>3079.46</td>\n",
       "      <td>3134.03</td>\n",
       "      <td>3142.23</td>\n",
       "      <td>3210.93</td>\n",
       "      <td>3113.68</td>\n",
       "      <td>3060.09</td>\n",
       "      <td>3072.40</td>\n",
       "      <td>3133.06</td>\n",
       "      <td>3247.48</td>\n",
       "      <td>3286.44</td>\n",
       "    </tr>\n",
       "    <tr>\n",
       "      <th>4</th>\n",
       "      <td>India</td>\n",
       "      <td>CAIT</td>\n",
       "      <td>Total including LUCF</td>\n",
       "      <td>CO2</td>\n",
       "      <td>MtCO₂e</td>\n",
       "      <td>2400.25</td>\n",
       "      <td>2267.16</td>\n",
       "      <td>2149.01</td>\n",
       "      <td>2085.38</td>\n",
       "      <td>2072.03</td>\n",
       "      <td>...</td>\n",
       "      <td>683.00</td>\n",
       "      <td>618.73</td>\n",
       "      <td>600.38</td>\n",
       "      <td>555.60</td>\n",
       "      <td>519.98</td>\n",
       "      <td>466.79</td>\n",
       "      <td>431.31</td>\n",
       "      <td>409.09</td>\n",
       "      <td>386.17</td>\n",
       "      <td>341.32</td>\n",
       "    </tr>\n",
       "    <tr>\n",
       "      <th>...</th>\n",
       "      <td>...</td>\n",
       "      <td>...</td>\n",
       "      <td>...</td>\n",
       "      <td>...</td>\n",
       "      <td>...</td>\n",
       "      <td>...</td>\n",
       "      <td>...</td>\n",
       "      <td>...</td>\n",
       "      <td>...</td>\n",
       "      <td>...</td>\n",
       "      <td>...</td>\n",
       "      <td>...</td>\n",
       "      <td>...</td>\n",
       "      <td>...</td>\n",
       "      <td>...</td>\n",
       "      <td>...</td>\n",
       "      <td>...</td>\n",
       "      <td>...</td>\n",
       "      <td>...</td>\n",
       "      <td>...</td>\n",
       "      <td>...</td>\n",
       "    </tr>\n",
       "    <tr>\n",
       "      <th>190</th>\n",
       "      <td>Nauru</td>\n",
       "      <td>CAIT</td>\n",
       "      <td>Total including LUCF</td>\n",
       "      <td>CO2</td>\n",
       "      <td>MtCO₂e</td>\n",
       "      <td>0.07</td>\n",
       "      <td>0.07</td>\n",
       "      <td>0.06</td>\n",
       "      <td>0.05</td>\n",
       "      <td>0.05</td>\n",
       "      <td>...</td>\n",
       "      <td>0.09</td>\n",
       "      <td>0.10</td>\n",
       "      <td>0.10</td>\n",
       "      <td>0.10</td>\n",
       "      <td>0.11</td>\n",
       "      <td>0.11</td>\n",
       "      <td>0.11</td>\n",
       "      <td>0.12</td>\n",
       "      <td>0.13</td>\n",
       "      <td>0.13</td>\n",
       "    </tr>\n",
       "    <tr>\n",
       "      <th>191</th>\n",
       "      <td>Tuvalu</td>\n",
       "      <td>CAIT</td>\n",
       "      <td>Total including LUCF</td>\n",
       "      <td>CO2</td>\n",
       "      <td>MtCO₂e</td>\n",
       "      <td>0.01</td>\n",
       "      <td>0.01</td>\n",
       "      <td>0.01</td>\n",
       "      <td>0.01</td>\n",
       "      <td>0.01</td>\n",
       "      <td>...</td>\n",
       "      <td>0.01</td>\n",
       "      <td>0.01</td>\n",
       "      <td>0.01</td>\n",
       "      <td>0.01</td>\n",
       "      <td>0.01</td>\n",
       "      <td>0.01</td>\n",
       "      <td>0.01</td>\n",
       "      <td>0.01</td>\n",
       "      <td>0.00</td>\n",
       "      <td>0.00</td>\n",
       "    </tr>\n",
       "    <tr>\n",
       "      <th>192</th>\n",
       "      <td>Niue</td>\n",
       "      <td>CAIT</td>\n",
       "      <td>Total including LUCF</td>\n",
       "      <td>CO2</td>\n",
       "      <td>MtCO₂e</td>\n",
       "      <td>0.00</td>\n",
       "      <td>0.00</td>\n",
       "      <td>0.00</td>\n",
       "      <td>0.00</td>\n",
       "      <td>0.00</td>\n",
       "      <td>...</td>\n",
       "      <td>0.01</td>\n",
       "      <td>0.01</td>\n",
       "      <td>0.01</td>\n",
       "      <td>0.01</td>\n",
       "      <td>0.01</td>\n",
       "      <td>0.01</td>\n",
       "      <td>0.01</td>\n",
       "      <td>0.01</td>\n",
       "      <td>0.01</td>\n",
       "      <td>0.01</td>\n",
       "    </tr>\n",
       "    <tr>\n",
       "      <th>193</th>\n",
       "      <td>Fiji</td>\n",
       "      <td>CAIT</td>\n",
       "      <td>Total including LUCF</td>\n",
       "      <td>CO2</td>\n",
       "      <td>MtCO₂e</td>\n",
       "      <td>-0.65</td>\n",
       "      <td>-0.73</td>\n",
       "      <td>-0.81</td>\n",
       "      <td>-1.03</td>\n",
       "      <td>-1.24</td>\n",
       "      <td>...</td>\n",
       "      <td>-1.74</td>\n",
       "      <td>-1.76</td>\n",
       "      <td>-1.74</td>\n",
       "      <td>-1.72</td>\n",
       "      <td>-1.78</td>\n",
       "      <td>-1.79</td>\n",
       "      <td>-1.79</td>\n",
       "      <td>-1.78</td>\n",
       "      <td>-1.81</td>\n",
       "      <td>-1.81</td>\n",
       "    </tr>\n",
       "    <tr>\n",
       "      <th>194</th>\n",
       "      <td>Ghana</td>\n",
       "      <td>CAIT</td>\n",
       "      <td>Total including LUCF</td>\n",
       "      <td>CO2</td>\n",
       "      <td>MtCO₂e</td>\n",
       "      <td>-8.82</td>\n",
       "      <td>-10.15</td>\n",
       "      <td>-10.82</td>\n",
       "      <td>44.53</td>\n",
       "      <td>43.77</td>\n",
       "      <td>...</td>\n",
       "      <td>16.46</td>\n",
       "      <td>15.98</td>\n",
       "      <td>14.18</td>\n",
       "      <td>13.98</td>\n",
       "      <td>13.60</td>\n",
       "      <td>13.34</td>\n",
       "      <td>13.07</td>\n",
       "      <td>12.96</td>\n",
       "      <td>12.44</td>\n",
       "      <td>12.67</td>\n",
       "    </tr>\n",
       "  </tbody>\n",
       "</table>\n",
       "<p>195 rows × 34 columns</p>\n",
       "</div>"
      ],
      "text/plain": [
       "                 Country Data source                Sector  Gas    Unit  \\\n",
       "0                  World        CAIT  Total including LUCF  CO2  MtCO₂e   \n",
       "1                  China        CAIT  Total including LUCF  CO2  MtCO₂e   \n",
       "2          United States        CAIT  Total including LUCF  CO2  MtCO₂e   \n",
       "3    European Union (27)        CAIT  Total including LUCF  CO2  MtCO₂e   \n",
       "4                  India        CAIT  Total including LUCF  CO2  MtCO₂e   \n",
       "..                   ...         ...                   ...  ...     ...   \n",
       "190                Nauru        CAIT  Total including LUCF  CO2  MtCO₂e   \n",
       "191               Tuvalu        CAIT  Total including LUCF  CO2  MtCO₂e   \n",
       "192                 Niue        CAIT  Total including LUCF  CO2  MtCO₂e   \n",
       "193                 Fiji        CAIT  Total including LUCF  CO2  MtCO₂e   \n",
       "194                Ghana        CAIT  Total including LUCF  CO2  MtCO₂e   \n",
       "\n",
       "         2018      2017      2016      2015      2014  ...      1999  \\\n",
       "0    36441.55  35588.70  35160.60  34521.91  34558.59  ...  24957.30   \n",
       "1     9663.36   9367.67   9164.21   9120.27   9184.77  ...   2799.84   \n",
       "2     4749.57   4581.90   4656.84   4563.52   4683.35  ...   5191.66   \n",
       "3     2636.99   2692.12   2669.54   2321.61   2263.78  ...   3079.46   \n",
       "4     2400.25   2267.16   2149.01   2085.38   2072.03  ...    683.00   \n",
       "..        ...       ...       ...       ...       ...  ...       ...   \n",
       "190      0.07      0.07      0.06      0.05      0.05  ...      0.09   \n",
       "191      0.01      0.01      0.01      0.01      0.01  ...      0.01   \n",
       "192      0.00      0.00      0.00      0.00      0.00  ...      0.01   \n",
       "193     -0.65     -0.73     -0.81     -1.03     -1.24  ...     -1.74   \n",
       "194     -8.82    -10.15    -10.82     44.53     43.77  ...     16.46   \n",
       "\n",
       "         1998      1997      1996      1995      1994      1993      1992  \\\n",
       "0    24895.32  25292.92  24214.92  23890.22  23260.29  23124.00  22988.29   \n",
       "1     2882.75   2779.27   2715.50   2735.48   2414.50   2294.12   2068.77   \n",
       "2     5172.06   5129.29   4864.46   4708.31   4654.52   4581.76   4461.62   \n",
       "3     3134.03   3142.23   3210.93   3113.68   3060.09   3072.40   3133.06   \n",
       "4      618.73    600.38    555.60    519.98    466.79    431.31    409.09   \n",
       "..        ...       ...       ...       ...       ...       ...       ...   \n",
       "190      0.10      0.10      0.10      0.11      0.11      0.11      0.12   \n",
       "191      0.01      0.01      0.01      0.01      0.01      0.01      0.01   \n",
       "192      0.01      0.01      0.01      0.01      0.01      0.01      0.01   \n",
       "193     -1.76     -1.74     -1.72     -1.78     -1.79     -1.79     -1.78   \n",
       "194     15.98     14.18     13.98     13.60     13.34     13.07     12.96   \n",
       "\n",
       "         1991      1990  \n",
       "0    23056.40  22849.92  \n",
       "1     1952.78   1823.96  \n",
       "2     4389.50   4426.40  \n",
       "3     3247.48   3286.44  \n",
       "4      386.17    341.32  \n",
       "..        ...       ...  \n",
       "190      0.13      0.13  \n",
       "191      0.00      0.00  \n",
       "192      0.01      0.01  \n",
       "193     -1.81     -1.81  \n",
       "194     12.44     12.67  \n",
       "\n",
       "[195 rows x 34 columns]"
      ]
     },
     "execution_count": 2,
     "metadata": {},
     "output_type": "execute_result"
    }
   ],
   "source": [
    "file_path = \"./Resources/historical_emissions.csv\"\n",
    "emissions_df = pd.read_csv(file_path)\n",
    "emissions_df"
   ]
  },
  {
   "cell_type": "code",
   "execution_count": 3,
   "id": "3f18513b",
   "metadata": {},
   "outputs": [
    {
     "name": "stdout",
     "output_type": "stream",
     "text": [
      "<class 'pandas.core.frame.DataFrame'>\n",
      "RangeIndex: 195 entries, 0 to 194\n",
      "Data columns (total 34 columns):\n",
      " #   Column       Non-Null Count  Dtype  \n",
      "---  ------       --------------  -----  \n",
      " 0   Country      195 non-null    object \n",
      " 1   Data source  195 non-null    object \n",
      " 2   Sector       195 non-null    object \n",
      " 3   Gas          195 non-null    object \n",
      " 4   Unit         195 non-null    object \n",
      " 5   2018         195 non-null    float64\n",
      " 6   2017         195 non-null    float64\n",
      " 7   2016         195 non-null    float64\n",
      " 8   2015         195 non-null    float64\n",
      " 9   2014         195 non-null    float64\n",
      " 10  2013         195 non-null    float64\n",
      " 11  2012         195 non-null    float64\n",
      " 12  2011         195 non-null    float64\n",
      " 13  2010         195 non-null    float64\n",
      " 14  2009         195 non-null    float64\n",
      " 15  2008         195 non-null    float64\n",
      " 16  2007         195 non-null    float64\n",
      " 17  2006         195 non-null    float64\n",
      " 18  2005         195 non-null    float64\n",
      " 19  2004         195 non-null    float64\n",
      " 20  2003         195 non-null    float64\n",
      " 21  2002         195 non-null    float64\n",
      " 22  2001         195 non-null    float64\n",
      " 23  2000         195 non-null    float64\n",
      " 24  1999         195 non-null    float64\n",
      " 25  1998         195 non-null    float64\n",
      " 26  1997         195 non-null    float64\n",
      " 27  1996         195 non-null    float64\n",
      " 28  1995         195 non-null    float64\n",
      " 29  1994         195 non-null    float64\n",
      " 30  1993         195 non-null    float64\n",
      " 31  1992         195 non-null    float64\n",
      " 32  1991         195 non-null    float64\n",
      " 33  1990         194 non-null    float64\n",
      "dtypes: float64(29), object(5)\n",
      "memory usage: 51.9+ KB\n"
     ]
    }
   ],
   "source": [
    "emissions_df.info()\n",
    "# Make a copy of the data for future use\n",
    "copy = emissions_df.copy()"
   ]
  },
  {
   "cell_type": "code",
   "execution_count": 4,
   "id": "d7fd886a",
   "metadata": {},
   "outputs": [
    {
     "data": {
      "text/html": [
       "<div>\n",
       "<style scoped>\n",
       "    .dataframe tbody tr th:only-of-type {\n",
       "        vertical-align: middle;\n",
       "    }\n",
       "\n",
       "    .dataframe tbody tr th {\n",
       "        vertical-align: top;\n",
       "    }\n",
       "\n",
       "    .dataframe thead th {\n",
       "        text-align: right;\n",
       "    }\n",
       "</style>\n",
       "<table border=\"1\" class=\"dataframe\">\n",
       "  <thead>\n",
       "    <tr style=\"text-align: right;\">\n",
       "      <th></th>\n",
       "      <th>2018</th>\n",
       "      <th>2017</th>\n",
       "      <th>2016</th>\n",
       "      <th>2015</th>\n",
       "      <th>2014</th>\n",
       "      <th>2013</th>\n",
       "      <th>2012</th>\n",
       "      <th>2011</th>\n",
       "      <th>2010</th>\n",
       "      <th>2009</th>\n",
       "      <th>...</th>\n",
       "      <th>1999</th>\n",
       "      <th>1998</th>\n",
       "      <th>1997</th>\n",
       "      <th>1996</th>\n",
       "      <th>1995</th>\n",
       "      <th>1994</th>\n",
       "      <th>1993</th>\n",
       "      <th>1992</th>\n",
       "      <th>1991</th>\n",
       "      <th>1990</th>\n",
       "    </tr>\n",
       "  </thead>\n",
       "  <tbody>\n",
       "    <tr>\n",
       "      <th>count</th>\n",
       "      <td>195.000000</td>\n",
       "      <td>195.000000</td>\n",
       "      <td>195.000000</td>\n",
       "      <td>195.000000</td>\n",
       "      <td>195.000000</td>\n",
       "      <td>195.000000</td>\n",
       "      <td>195.000000</td>\n",
       "      <td>195.000000</td>\n",
       "      <td>195.000000</td>\n",
       "      <td>195.000000</td>\n",
       "      <td>...</td>\n",
       "      <td>195.000000</td>\n",
       "      <td>195.000000</td>\n",
       "      <td>195.000000</td>\n",
       "      <td>195.000000</td>\n",
       "      <td>195.000000</td>\n",
       "      <td>195.000000</td>\n",
       "      <td>195.000000</td>\n",
       "      <td>195.000000</td>\n",
       "      <td>195.000000</td>\n",
       "      <td>194.000000</td>\n",
       "    </tr>\n",
       "    <tr>\n",
       "      <th>mean</th>\n",
       "      <td>378.715949</td>\n",
       "      <td>370.386564</td>\n",
       "      <td>366.166564</td>\n",
       "      <td>358.048769</td>\n",
       "      <td>358.536513</td>\n",
       "      <td>356.006513</td>\n",
       "      <td>350.330000</td>\n",
       "      <td>346.323846</td>\n",
       "      <td>349.297897</td>\n",
       "      <td>333.351897</td>\n",
       "      <td>...</td>\n",
       "      <td>266.157590</td>\n",
       "      <td>266.078359</td>\n",
       "      <td>270.424872</td>\n",
       "      <td>259.915077</td>\n",
       "      <td>256.231436</td>\n",
       "      <td>249.665949</td>\n",
       "      <td>248.475744</td>\n",
       "      <td>247.420769</td>\n",
       "      <td>248.644462</td>\n",
       "      <td>248.028402</td>\n",
       "    </tr>\n",
       "    <tr>\n",
       "      <th>std</th>\n",
       "      <td>2722.060347</td>\n",
       "      <td>2656.756306</td>\n",
       "      <td>2624.062599</td>\n",
       "      <td>2578.461926</td>\n",
       "      <td>2582.937989</td>\n",
       "      <td>2559.773990</td>\n",
       "      <td>2510.957527</td>\n",
       "      <td>2481.296970</td>\n",
       "      <td>2485.033349</td>\n",
       "      <td>2363.491694</td>\n",
       "      <td>...</td>\n",
       "      <td>1846.768138</td>\n",
       "      <td>1843.118898</td>\n",
       "      <td>1870.838154</td>\n",
       "      <td>1791.653745</td>\n",
       "      <td>1766.707757</td>\n",
       "      <td>1719.915887</td>\n",
       "      <td>1709.447361</td>\n",
       "      <td>1698.507027</td>\n",
       "      <td>1703.334650</td>\n",
       "      <td>1693.633278</td>\n",
       "    </tr>\n",
       "    <tr>\n",
       "      <th>min</th>\n",
       "      <td>-8.820000</td>\n",
       "      <td>-10.150000</td>\n",
       "      <td>-10.820000</td>\n",
       "      <td>-212.220000</td>\n",
       "      <td>-213.710000</td>\n",
       "      <td>-213.110000</td>\n",
       "      <td>-203.390000</td>\n",
       "      <td>-201.170000</td>\n",
       "      <td>-6.140000</td>\n",
       "      <td>-6.450000</td>\n",
       "      <td>...</td>\n",
       "      <td>-27.250000</td>\n",
       "      <td>-27.510000</td>\n",
       "      <td>-32.400000</td>\n",
       "      <td>-38.300000</td>\n",
       "      <td>-41.950000</td>\n",
       "      <td>-45.540000</td>\n",
       "      <td>-48.040000</td>\n",
       "      <td>-52.980000</td>\n",
       "      <td>-53.980000</td>\n",
       "      <td>-53.880000</td>\n",
       "    </tr>\n",
       "    <tr>\n",
       "      <th>25%</th>\n",
       "      <td>4.800000</td>\n",
       "      <td>4.320000</td>\n",
       "      <td>4.395000</td>\n",
       "      <td>3.375000</td>\n",
       "      <td>3.165000</td>\n",
       "      <td>3.035000</td>\n",
       "      <td>3.135000</td>\n",
       "      <td>2.880000</td>\n",
       "      <td>3.350000</td>\n",
       "      <td>3.620000</td>\n",
       "      <td>...</td>\n",
       "      <td>2.700000</td>\n",
       "      <td>2.320000</td>\n",
       "      <td>2.230000</td>\n",
       "      <td>2.275000</td>\n",
       "      <td>2.110000</td>\n",
       "      <td>2.220000</td>\n",
       "      <td>2.175000</td>\n",
       "      <td>2.260000</td>\n",
       "      <td>2.775000</td>\n",
       "      <td>2.590000</td>\n",
       "    </tr>\n",
       "    <tr>\n",
       "      <th>50%</th>\n",
       "      <td>21.920000</td>\n",
       "      <td>22.310000</td>\n",
       "      <td>22.140000</td>\n",
       "      <td>18.760000</td>\n",
       "      <td>18.770000</td>\n",
       "      <td>18.700000</td>\n",
       "      <td>19.680000</td>\n",
       "      <td>19.450000</td>\n",
       "      <td>20.010000</td>\n",
       "      <td>19.240000</td>\n",
       "      <td>...</td>\n",
       "      <td>15.450000</td>\n",
       "      <td>15.510000</td>\n",
       "      <td>14.570000</td>\n",
       "      <td>14.170000</td>\n",
       "      <td>14.130000</td>\n",
       "      <td>13.830000</td>\n",
       "      <td>14.640000</td>\n",
       "      <td>14.120000</td>\n",
       "      <td>14.610000</td>\n",
       "      <td>15.295000</td>\n",
       "    </tr>\n",
       "    <tr>\n",
       "      <th>75%</th>\n",
       "      <td>89.770000</td>\n",
       "      <td>88.660000</td>\n",
       "      <td>87.135000</td>\n",
       "      <td>77.345000</td>\n",
       "      <td>76.875000</td>\n",
       "      <td>74.245000</td>\n",
       "      <td>76.515000</td>\n",
       "      <td>74.805000</td>\n",
       "      <td>72.515000</td>\n",
       "      <td>69.005000</td>\n",
       "      <td>...</td>\n",
       "      <td>64.065000</td>\n",
       "      <td>62.860000</td>\n",
       "      <td>64.715000</td>\n",
       "      <td>67.710000</td>\n",
       "      <td>62.015000</td>\n",
       "      <td>61.870000</td>\n",
       "      <td>59.820000</td>\n",
       "      <td>59.120000</td>\n",
       "      <td>63.080000</td>\n",
       "      <td>61.997500</td>\n",
       "    </tr>\n",
       "    <tr>\n",
       "      <th>max</th>\n",
       "      <td>36441.550000</td>\n",
       "      <td>35588.700000</td>\n",
       "      <td>35160.600000</td>\n",
       "      <td>34521.910000</td>\n",
       "      <td>34558.590000</td>\n",
       "      <td>34217.180000</td>\n",
       "      <td>33620.340000</td>\n",
       "      <td>33226.010000</td>\n",
       "      <td>33328.380000</td>\n",
       "      <td>31769.890000</td>\n",
       "      <td>...</td>\n",
       "      <td>24957.300000</td>\n",
       "      <td>24895.320000</td>\n",
       "      <td>25292.920000</td>\n",
       "      <td>24214.920000</td>\n",
       "      <td>23890.220000</td>\n",
       "      <td>23260.290000</td>\n",
       "      <td>23124.000000</td>\n",
       "      <td>22988.290000</td>\n",
       "      <td>23056.400000</td>\n",
       "      <td>22849.920000</td>\n",
       "    </tr>\n",
       "  </tbody>\n",
       "</table>\n",
       "<p>8 rows × 29 columns</p>\n",
       "</div>"
      ],
      "text/plain": [
       "               2018          2017          2016          2015          2014  \\\n",
       "count    195.000000    195.000000    195.000000    195.000000    195.000000   \n",
       "mean     378.715949    370.386564    366.166564    358.048769    358.536513   \n",
       "std     2722.060347   2656.756306   2624.062599   2578.461926   2582.937989   \n",
       "min       -8.820000    -10.150000    -10.820000   -212.220000   -213.710000   \n",
       "25%        4.800000      4.320000      4.395000      3.375000      3.165000   \n",
       "50%       21.920000     22.310000     22.140000     18.760000     18.770000   \n",
       "75%       89.770000     88.660000     87.135000     77.345000     76.875000   \n",
       "max    36441.550000  35588.700000  35160.600000  34521.910000  34558.590000   \n",
       "\n",
       "               2013          2012          2011          2010          2009  \\\n",
       "count    195.000000    195.000000    195.000000    195.000000    195.000000   \n",
       "mean     356.006513    350.330000    346.323846    349.297897    333.351897   \n",
       "std     2559.773990   2510.957527   2481.296970   2485.033349   2363.491694   \n",
       "min     -213.110000   -203.390000   -201.170000     -6.140000     -6.450000   \n",
       "25%        3.035000      3.135000      2.880000      3.350000      3.620000   \n",
       "50%       18.700000     19.680000     19.450000     20.010000     19.240000   \n",
       "75%       74.245000     76.515000     74.805000     72.515000     69.005000   \n",
       "max    34217.180000  33620.340000  33226.010000  33328.380000  31769.890000   \n",
       "\n",
       "       ...          1999          1998          1997          1996  \\\n",
       "count  ...    195.000000    195.000000    195.000000    195.000000   \n",
       "mean   ...    266.157590    266.078359    270.424872    259.915077   \n",
       "std    ...   1846.768138   1843.118898   1870.838154   1791.653745   \n",
       "min    ...    -27.250000    -27.510000    -32.400000    -38.300000   \n",
       "25%    ...      2.700000      2.320000      2.230000      2.275000   \n",
       "50%    ...     15.450000     15.510000     14.570000     14.170000   \n",
       "75%    ...     64.065000     62.860000     64.715000     67.710000   \n",
       "max    ...  24957.300000  24895.320000  25292.920000  24214.920000   \n",
       "\n",
       "               1995          1994          1993          1992          1991  \\\n",
       "count    195.000000    195.000000    195.000000    195.000000    195.000000   \n",
       "mean     256.231436    249.665949    248.475744    247.420769    248.644462   \n",
       "std     1766.707757   1719.915887   1709.447361   1698.507027   1703.334650   \n",
       "min      -41.950000    -45.540000    -48.040000    -52.980000    -53.980000   \n",
       "25%        2.110000      2.220000      2.175000      2.260000      2.775000   \n",
       "50%       14.130000     13.830000     14.640000     14.120000     14.610000   \n",
       "75%       62.015000     61.870000     59.820000     59.120000     63.080000   \n",
       "max    23890.220000  23260.290000  23124.000000  22988.290000  23056.400000   \n",
       "\n",
       "               1990  \n",
       "count    194.000000  \n",
       "mean     248.028402  \n",
       "std     1693.633278  \n",
       "min      -53.880000  \n",
       "25%        2.590000  \n",
       "50%       15.295000  \n",
       "75%       61.997500  \n",
       "max    22849.920000  \n",
       "\n",
       "[8 rows x 29 columns]"
      ]
     },
     "execution_count": 4,
     "metadata": {},
     "output_type": "execute_result"
    }
   ],
   "source": [
    "emissions_df.describe()"
   ]
  },
  {
   "cell_type": "code",
   "execution_count": 5,
   "id": "fd154804",
   "metadata": {},
   "outputs": [],
   "source": [
    " # drop \"Data source\", \"Sector\", \"Unit\", \"Gas\"columns\n",
    "emissions_df.drop([\"Data source\", \"Sector\", \"Unit\", \"Gas\"], axis=1, inplace=True)"
   ]
  },
  {
   "cell_type": "code",
   "execution_count": 6,
   "id": "7fd2b0f5",
   "metadata": {},
   "outputs": [],
   "source": [
    "# Eliminate rows for the world and European Union\n",
    "emissions_df = emissions_df[emissions_df[\"Country\"] != \"World\"]\n",
    "emissions_df= emissions_df[emissions_df[\"Country\"] != \"European Union (27)\"]"
   ]
  },
  {
   "cell_type": "code",
   "execution_count": 7,
   "id": "b18c318b",
   "metadata": {},
   "outputs": [],
   "source": [
    "# Save in the Resources\n",
    "emissions_df.to_csv(index=True)\n",
    "filepath = Path('Resources/emissions.csv')  \n",
    "filepath.parent.mkdir(parents=True, exist_ok=True)  \n",
    "emissions_df.to_csv(filepath)"
   ]
  },
  {
   "cell_type": "code",
   "execution_count": 21,
   "id": "018660b7",
   "metadata": {},
   "outputs": [],
   "source": [
    "# Creates a bar chart of the top emitting countries for each year\n",
    "def most_emission(emissions_df):\n",
    "    \n",
    "    # Set countries as index\n",
    "    emissions_df = emissions_df.set_index(\"Country\")\n",
    "    \n",
    "   # contains the charts to display\n",
    "    item_list = []\n",
    "    \n",
    "    # Reverse the list so that 1990 is displayed first\n",
    "    for col in emissions_df.columns.tolist()[::-1]:\n",
    "        # sort df\n",
    "        emissions_df = emissions_df.sort_values(col, ascending=False).head(10)\n",
    "        # create the chart\n",
    "        item = dict(args=[{\"x\" : [emissions_df.index], \"y\" : [emissions_df[col]] }, # Set x and y axis\n",
    "                         {\"title\" :\"Countries with the most emissions in \"+ col} # Set title\n",
    "                         ],\n",
    "                         label=col, method=\"update\") # label = name of the button\n",
    "                                                     # method = \"update\" changes data and layout\n",
    "        item_list.append(item)\n",
    "    \n",
    "    # Creates the first chart to match the first value of our menu\n",
    "    firstchart = emissions_df.sort_values(emissions_df.columns.tolist()[::-1][0], ascending=False).head(10)\n",
    "    \n",
    "    fig = px.bar(firstchart, x=firstchart.index, y=firstchart.columns.tolist()[::-1][0],\n",
    "                 color_discrete_sequence=[\"#de4a4a\"], template=\"plotly_dark\",\n",
    "                 text_auto=True,\n",
    "                 title=\"Countries with the most emissions in \" + emissions_df.columns.tolist()[::-1][0])\n",
    "    # Title\n",
    "    fig.update_layout(title_x=0.5)\n",
    "\n",
    "    # Create menu\n",
    "    fig.update_layout(\n",
    "            updatemenus=[\n",
    "                # item list = List of charts\n",
    "                dict(buttons=list(item_list),  \n",
    "\n",
    "                 # Location of dropdown menu\n",
    "                direction=\"down\",showactive=True,x=0.005,\n",
    "                xanchor=\"left\",y=1.4,yanchor=\"top\") ] )\n",
    "    \n",
    "    return fig.show()"
   ]
  },
  {
   "cell_type": "code",
   "execution_count": 22,
   "id": "513c4d99",
   "metadata": {},
   "outputs": [
    {
     "data": {
      "application/vnd.plotly.v1+json": {
       "config": {
        "plotlyServerURL": "https://plot.ly"
       },
       "data": [
        {
         "alignmentgroup": "True",
         "hovertemplate": "Country=%{x}<br>1990=%{y}<extra></extra>",
         "legendgroup": "",
         "marker": {
          "color": "#de4a4a",
          "pattern": {
           "shape": ""
          }
         },
         "name": "",
         "offsetgroup": "",
         "orientation": "v",
         "showlegend": false,
         "textposition": "auto",
         "texttemplate": "%{y}",
         "type": "bar",
         "x": [
          "United States",
          "China",
          "Russia",
          "Brazil",
          "Japan",
          "Germany",
          "Indonesia",
          "Ukraine",
          "United Kingdom",
          "Canada"
         ],
         "xaxis": "x",
         "y": [
          4426.4,
          1823.96,
          1790.34,
          1236.73,
          1016.89,
          904.38,
          832.39,
          640.09,
          545.73,
          483.99
         ],
         "yaxis": "y"
        }
       ],
       "layout": {
        "barmode": "relative",
        "legend": {
         "tracegroupgap": 0
        },
        "template": {
         "data": {
          "bar": [
           {
            "error_x": {
             "color": "#f2f5fa"
            },
            "error_y": {
             "color": "#f2f5fa"
            },
            "marker": {
             "line": {
              "color": "rgb(17,17,17)",
              "width": 0.5
             },
             "pattern": {
              "fillmode": "overlay",
              "size": 10,
              "solidity": 0.2
             }
            },
            "type": "bar"
           }
          ],
          "barpolar": [
           {
            "marker": {
             "line": {
              "color": "rgb(17,17,17)",
              "width": 0.5
             },
             "pattern": {
              "fillmode": "overlay",
              "size": 10,
              "solidity": 0.2
             }
            },
            "type": "barpolar"
           }
          ],
          "carpet": [
           {
            "aaxis": {
             "endlinecolor": "#A2B1C6",
             "gridcolor": "#506784",
             "linecolor": "#506784",
             "minorgridcolor": "#506784",
             "startlinecolor": "#A2B1C6"
            },
            "baxis": {
             "endlinecolor": "#A2B1C6",
             "gridcolor": "#506784",
             "linecolor": "#506784",
             "minorgridcolor": "#506784",
             "startlinecolor": "#A2B1C6"
            },
            "type": "carpet"
           }
          ],
          "choropleth": [
           {
            "colorbar": {
             "outlinewidth": 0,
             "ticks": ""
            },
            "type": "choropleth"
           }
          ],
          "contour": [
           {
            "colorbar": {
             "outlinewidth": 0,
             "ticks": ""
            },
            "colorscale": [
             [
              0,
              "#0d0887"
             ],
             [
              0.1111111111111111,
              "#46039f"
             ],
             [
              0.2222222222222222,
              "#7201a8"
             ],
             [
              0.3333333333333333,
              "#9c179e"
             ],
             [
              0.4444444444444444,
              "#bd3786"
             ],
             [
              0.5555555555555556,
              "#d8576b"
             ],
             [
              0.6666666666666666,
              "#ed7953"
             ],
             [
              0.7777777777777778,
              "#fb9f3a"
             ],
             [
              0.8888888888888888,
              "#fdca26"
             ],
             [
              1,
              "#f0f921"
             ]
            ],
            "type": "contour"
           }
          ],
          "contourcarpet": [
           {
            "colorbar": {
             "outlinewidth": 0,
             "ticks": ""
            },
            "type": "contourcarpet"
           }
          ],
          "heatmap": [
           {
            "colorbar": {
             "outlinewidth": 0,
             "ticks": ""
            },
            "colorscale": [
             [
              0,
              "#0d0887"
             ],
             [
              0.1111111111111111,
              "#46039f"
             ],
             [
              0.2222222222222222,
              "#7201a8"
             ],
             [
              0.3333333333333333,
              "#9c179e"
             ],
             [
              0.4444444444444444,
              "#bd3786"
             ],
             [
              0.5555555555555556,
              "#d8576b"
             ],
             [
              0.6666666666666666,
              "#ed7953"
             ],
             [
              0.7777777777777778,
              "#fb9f3a"
             ],
             [
              0.8888888888888888,
              "#fdca26"
             ],
             [
              1,
              "#f0f921"
             ]
            ],
            "type": "heatmap"
           }
          ],
          "heatmapgl": [
           {
            "colorbar": {
             "outlinewidth": 0,
             "ticks": ""
            },
            "colorscale": [
             [
              0,
              "#0d0887"
             ],
             [
              0.1111111111111111,
              "#46039f"
             ],
             [
              0.2222222222222222,
              "#7201a8"
             ],
             [
              0.3333333333333333,
              "#9c179e"
             ],
             [
              0.4444444444444444,
              "#bd3786"
             ],
             [
              0.5555555555555556,
              "#d8576b"
             ],
             [
              0.6666666666666666,
              "#ed7953"
             ],
             [
              0.7777777777777778,
              "#fb9f3a"
             ],
             [
              0.8888888888888888,
              "#fdca26"
             ],
             [
              1,
              "#f0f921"
             ]
            ],
            "type": "heatmapgl"
           }
          ],
          "histogram": [
           {
            "marker": {
             "pattern": {
              "fillmode": "overlay",
              "size": 10,
              "solidity": 0.2
             }
            },
            "type": "histogram"
           }
          ],
          "histogram2d": [
           {
            "colorbar": {
             "outlinewidth": 0,
             "ticks": ""
            },
            "colorscale": [
             [
              0,
              "#0d0887"
             ],
             [
              0.1111111111111111,
              "#46039f"
             ],
             [
              0.2222222222222222,
              "#7201a8"
             ],
             [
              0.3333333333333333,
              "#9c179e"
             ],
             [
              0.4444444444444444,
              "#bd3786"
             ],
             [
              0.5555555555555556,
              "#d8576b"
             ],
             [
              0.6666666666666666,
              "#ed7953"
             ],
             [
              0.7777777777777778,
              "#fb9f3a"
             ],
             [
              0.8888888888888888,
              "#fdca26"
             ],
             [
              1,
              "#f0f921"
             ]
            ],
            "type": "histogram2d"
           }
          ],
          "histogram2dcontour": [
           {
            "colorbar": {
             "outlinewidth": 0,
             "ticks": ""
            },
            "colorscale": [
             [
              0,
              "#0d0887"
             ],
             [
              0.1111111111111111,
              "#46039f"
             ],
             [
              0.2222222222222222,
              "#7201a8"
             ],
             [
              0.3333333333333333,
              "#9c179e"
             ],
             [
              0.4444444444444444,
              "#bd3786"
             ],
             [
              0.5555555555555556,
              "#d8576b"
             ],
             [
              0.6666666666666666,
              "#ed7953"
             ],
             [
              0.7777777777777778,
              "#fb9f3a"
             ],
             [
              0.8888888888888888,
              "#fdca26"
             ],
             [
              1,
              "#f0f921"
             ]
            ],
            "type": "histogram2dcontour"
           }
          ],
          "mesh3d": [
           {
            "colorbar": {
             "outlinewidth": 0,
             "ticks": ""
            },
            "type": "mesh3d"
           }
          ],
          "parcoords": [
           {
            "line": {
             "colorbar": {
              "outlinewidth": 0,
              "ticks": ""
             }
            },
            "type": "parcoords"
           }
          ],
          "pie": [
           {
            "automargin": true,
            "type": "pie"
           }
          ],
          "scatter": [
           {
            "marker": {
             "line": {
              "color": "#283442"
             }
            },
            "type": "scatter"
           }
          ],
          "scatter3d": [
           {
            "line": {
             "colorbar": {
              "outlinewidth": 0,
              "ticks": ""
             }
            },
            "marker": {
             "colorbar": {
              "outlinewidth": 0,
              "ticks": ""
             }
            },
            "type": "scatter3d"
           }
          ],
          "scattercarpet": [
           {
            "marker": {
             "colorbar": {
              "outlinewidth": 0,
              "ticks": ""
             }
            },
            "type": "scattercarpet"
           }
          ],
          "scattergeo": [
           {
            "marker": {
             "colorbar": {
              "outlinewidth": 0,
              "ticks": ""
             }
            },
            "type": "scattergeo"
           }
          ],
          "scattergl": [
           {
            "marker": {
             "line": {
              "color": "#283442"
             }
            },
            "type": "scattergl"
           }
          ],
          "scattermapbox": [
           {
            "marker": {
             "colorbar": {
              "outlinewidth": 0,
              "ticks": ""
             }
            },
            "type": "scattermapbox"
           }
          ],
          "scatterpolar": [
           {
            "marker": {
             "colorbar": {
              "outlinewidth": 0,
              "ticks": ""
             }
            },
            "type": "scatterpolar"
           }
          ],
          "scatterpolargl": [
           {
            "marker": {
             "colorbar": {
              "outlinewidth": 0,
              "ticks": ""
             }
            },
            "type": "scatterpolargl"
           }
          ],
          "scatterternary": [
           {
            "marker": {
             "colorbar": {
              "outlinewidth": 0,
              "ticks": ""
             }
            },
            "type": "scatterternary"
           }
          ],
          "surface": [
           {
            "colorbar": {
             "outlinewidth": 0,
             "ticks": ""
            },
            "colorscale": [
             [
              0,
              "#0d0887"
             ],
             [
              0.1111111111111111,
              "#46039f"
             ],
             [
              0.2222222222222222,
              "#7201a8"
             ],
             [
              0.3333333333333333,
              "#9c179e"
             ],
             [
              0.4444444444444444,
              "#bd3786"
             ],
             [
              0.5555555555555556,
              "#d8576b"
             ],
             [
              0.6666666666666666,
              "#ed7953"
             ],
             [
              0.7777777777777778,
              "#fb9f3a"
             ],
             [
              0.8888888888888888,
              "#fdca26"
             ],
             [
              1,
              "#f0f921"
             ]
            ],
            "type": "surface"
           }
          ],
          "table": [
           {
            "cells": {
             "fill": {
              "color": "#506784"
             },
             "line": {
              "color": "rgb(17,17,17)"
             }
            },
            "header": {
             "fill": {
              "color": "#2a3f5f"
             },
             "line": {
              "color": "rgb(17,17,17)"
             }
            },
            "type": "table"
           }
          ]
         },
         "layout": {
          "annotationdefaults": {
           "arrowcolor": "#f2f5fa",
           "arrowhead": 0,
           "arrowwidth": 1
          },
          "autotypenumbers": "strict",
          "coloraxis": {
           "colorbar": {
            "outlinewidth": 0,
            "ticks": ""
           }
          },
          "colorscale": {
           "diverging": [
            [
             0,
             "#8e0152"
            ],
            [
             0.1,
             "#c51b7d"
            ],
            [
             0.2,
             "#de77ae"
            ],
            [
             0.3,
             "#f1b6da"
            ],
            [
             0.4,
             "#fde0ef"
            ],
            [
             0.5,
             "#f7f7f7"
            ],
            [
             0.6,
             "#e6f5d0"
            ],
            [
             0.7,
             "#b8e186"
            ],
            [
             0.8,
             "#7fbc41"
            ],
            [
             0.9,
             "#4d9221"
            ],
            [
             1,
             "#276419"
            ]
           ],
           "sequential": [
            [
             0,
             "#0d0887"
            ],
            [
             0.1111111111111111,
             "#46039f"
            ],
            [
             0.2222222222222222,
             "#7201a8"
            ],
            [
             0.3333333333333333,
             "#9c179e"
            ],
            [
             0.4444444444444444,
             "#bd3786"
            ],
            [
             0.5555555555555556,
             "#d8576b"
            ],
            [
             0.6666666666666666,
             "#ed7953"
            ],
            [
             0.7777777777777778,
             "#fb9f3a"
            ],
            [
             0.8888888888888888,
             "#fdca26"
            ],
            [
             1,
             "#f0f921"
            ]
           ],
           "sequentialminus": [
            [
             0,
             "#0d0887"
            ],
            [
             0.1111111111111111,
             "#46039f"
            ],
            [
             0.2222222222222222,
             "#7201a8"
            ],
            [
             0.3333333333333333,
             "#9c179e"
            ],
            [
             0.4444444444444444,
             "#bd3786"
            ],
            [
             0.5555555555555556,
             "#d8576b"
            ],
            [
             0.6666666666666666,
             "#ed7953"
            ],
            [
             0.7777777777777778,
             "#fb9f3a"
            ],
            [
             0.8888888888888888,
             "#fdca26"
            ],
            [
             1,
             "#f0f921"
            ]
           ]
          },
          "colorway": [
           "#636efa",
           "#EF553B",
           "#00cc96",
           "#ab63fa",
           "#FFA15A",
           "#19d3f3",
           "#FF6692",
           "#B6E880",
           "#FF97FF",
           "#FECB52"
          ],
          "font": {
           "color": "#f2f5fa"
          },
          "geo": {
           "bgcolor": "rgb(17,17,17)",
           "lakecolor": "rgb(17,17,17)",
           "landcolor": "rgb(17,17,17)",
           "showlakes": true,
           "showland": true,
           "subunitcolor": "#506784"
          },
          "hoverlabel": {
           "align": "left"
          },
          "hovermode": "closest",
          "mapbox": {
           "style": "dark"
          },
          "paper_bgcolor": "rgb(17,17,17)",
          "plot_bgcolor": "rgb(17,17,17)",
          "polar": {
           "angularaxis": {
            "gridcolor": "#506784",
            "linecolor": "#506784",
            "ticks": ""
           },
           "bgcolor": "rgb(17,17,17)",
           "radialaxis": {
            "gridcolor": "#506784",
            "linecolor": "#506784",
            "ticks": ""
           }
          },
          "scene": {
           "xaxis": {
            "backgroundcolor": "rgb(17,17,17)",
            "gridcolor": "#506784",
            "gridwidth": 2,
            "linecolor": "#506784",
            "showbackground": true,
            "ticks": "",
            "zerolinecolor": "#C8D4E3"
           },
           "yaxis": {
            "backgroundcolor": "rgb(17,17,17)",
            "gridcolor": "#506784",
            "gridwidth": 2,
            "linecolor": "#506784",
            "showbackground": true,
            "ticks": "",
            "zerolinecolor": "#C8D4E3"
           },
           "zaxis": {
            "backgroundcolor": "rgb(17,17,17)",
            "gridcolor": "#506784",
            "gridwidth": 2,
            "linecolor": "#506784",
            "showbackground": true,
            "ticks": "",
            "zerolinecolor": "#C8D4E3"
           }
          },
          "shapedefaults": {
           "line": {
            "color": "#f2f5fa"
           }
          },
          "sliderdefaults": {
           "bgcolor": "#C8D4E3",
           "bordercolor": "rgb(17,17,17)",
           "borderwidth": 1,
           "tickwidth": 0
          },
          "ternary": {
           "aaxis": {
            "gridcolor": "#506784",
            "linecolor": "#506784",
            "ticks": ""
           },
           "baxis": {
            "gridcolor": "#506784",
            "linecolor": "#506784",
            "ticks": ""
           },
           "bgcolor": "rgb(17,17,17)",
           "caxis": {
            "gridcolor": "#506784",
            "linecolor": "#506784",
            "ticks": ""
           }
          },
          "title": {
           "x": 0.05
          },
          "updatemenudefaults": {
           "bgcolor": "#506784",
           "borderwidth": 0
          },
          "xaxis": {
           "automargin": true,
           "gridcolor": "#283442",
           "linecolor": "#506784",
           "ticks": "",
           "title": {
            "standoff": 15
           },
           "zerolinecolor": "#283442",
           "zerolinewidth": 2
          },
          "yaxis": {
           "automargin": true,
           "gridcolor": "#283442",
           "linecolor": "#506784",
           "ticks": "",
           "title": {
            "standoff": 15
           },
           "zerolinecolor": "#283442",
           "zerolinewidth": 2
          }
         }
        },
        "title": {
         "text": "Countries with the most emissions in 1990",
         "x": 0.5
        },
        "updatemenus": [
         {
          "buttons": [
           {
            "args": [
             {
              "x": [
               [
                "United States",
                "China",
                "Russia",
                "Brazil",
                "Japan",
                "Germany",
                "Indonesia",
                "Ukraine",
                "United Kingdom",
                "Canada"
               ]
              ],
              "y": [
               [
                4426.4,
                1823.96,
                1790.34,
                1236.73,
                1016.89,
                904.38,
                832.39,
                640.09,
                545.73,
                483.99
               ]
              ]
             },
             {
              "title": "Countries with the most emissions in 1990"
             }
            ],
            "label": "1990",
            "method": "update"
           },
           {
            "args": [
             {
              "x": [
               [
                "United States",
                "China",
                "Russia",
                "Brazil",
                "Japan",
                "Germany",
                "Indonesia",
                "Ukraine",
                "United Kingdom",
                "Canada"
               ]
              ],
              "y": [
               [
                4389.5,
                1952.78,
                1766.89,
                1243.65,
                1029.99,
                881.44,
                846.23,
                603.4,
                559.38,
                477.81
               ]
              ]
             },
             {
              "title": "Countries with the most emissions in 1991"
             }
            ],
            "label": "1991",
            "method": "update"
           },
           {
            "args": [
             {
              "x": [
               [
                "United States",
                "China",
                "Russia",
                "Brazil",
                "Japan",
                "Indonesia",
                "Germany",
                "United Kingdom",
                "Ukraine",
                "Canada"
               ]
              ],
              "y": [
               [
                4461.62,
                2068.77,
                1630.98,
                1247.13,
                1041.79,
                855.3,
                841.83,
                542.02,
                526.12,
                490.88
               ]
              ]
             },
             {
              "title": "Countries with the most emissions in 1992"
             }
            ],
            "label": "1992",
            "method": "update"
           },
           {
            "args": [
             {
              "x": [
               [
                "United States",
                "China",
                "Russia",
                "Brazil",
                "Japan",
                "Indonesia",
                "Germany",
                "United Kingdom",
                "Canada",
                "Ukraine"
               ]
              ],
              "y": [
               [
                4581.76,
                2294.12,
                1447.33,
                1253.64,
                1033.99,
                869.88,
                836.08,
                529.56,
                487.56,
                450.79
               ]
              ]
             },
             {
              "title": "Countries with the most emissions in 1993"
             }
            ],
            "label": "1993",
            "method": "update"
           },
           {
            "args": [
             {
              "x": [
               [
                "United States",
                "China",
                "Brazil",
                "Russia",
                "Japan",
                "Indonesia",
                "Germany",
                "United Kingdom",
                "Canada",
                "Ukraine"
               ]
              ],
              "y": [
               [
                4654.52,
                2414.5,
                1261.19,
                1238.41,
                1087.22,
                881.31,
                824.87,
                524.43,
                503.69,
                367.14
               ]
              ]
             },
             {
              "title": "Countries with the most emissions in 1994"
             }
            ],
            "label": "1994",
            "method": "update"
           },
           {
            "args": [
             {
              "x": [
               [
                "United States",
                "China",
                "Brazil",
                "Russia",
                "Japan",
                "Indonesia",
                "Germany",
                "Canada",
                "United Kingdom",
                "Ukraine"
               ]
              ],
              "y": [
               [
                4708.31,
                2735.48,
                1279.97,
                1190.39,
                1097.1,
                909.21,
                822.15,
                514.62,
                513.33,
                350.76
               ]
              ]
             },
             {
              "title": "Countries with the most emissions in 1995"
             }
            ],
            "label": "1995",
            "method": "update"
           },
           {
            "args": [
             {
              "x": [
               [
                "United States",
                "China",
                "Brazil",
                "Russia",
                "Japan",
                "Germany",
                "Indonesia",
                "United Kingdom",
                "Canada",
                "Ukraine"
               ]
              ],
              "y": [
               [
                4864.46,
                2715.5,
                1301.37,
                1159.83,
                1110.51,
                851.78,
                772.38,
                533.7,
                528.32,
                297.56
               ]
              ]
             },
             {
              "title": "Countries with the most emissions in 1996"
             }
            ],
            "label": "1996",
            "method": "update"
           },
           {
            "args": [
             {
              "x": [
               [
                "United States",
                "China",
                "Indonesia",
                "Brazil",
                "Japan",
                "Russia",
                "Germany",
                "Canada",
                "United Kingdom",
                "Ukraine"
               ]
              ],
              "y": [
               [
                5129.29,
                2779.27,
                1484.56,
                1319.99,
                1098.26,
                1052.5,
                819.93,
                543.72,
                511.37,
                279.68
               ]
              ]
             },
             {
              "title": "Countries with the most emissions in 1997"
             }
            ],
            "label": "1997",
            "method": "update"
           },
           {
            "args": [
             {
              "x": [
               [
                "United States",
                "China",
                "Brazil",
                "Japan",
                "Russia",
                "Indonesia",
                "Germany",
                "Canada",
                "United Kingdom",
                "Ukraine"
               ]
              ],
              "y": [
               [
                5172.06,
                2882.75,
                1329.24,
                1055.5,
                1043.96,
                907.96,
                812.12,
                552.1,
                514.07,
                260.74
               ]
              ]
             },
             {
              "title": "Countries with the most emissions in 1998"
             }
            ],
            "label": "1998",
            "method": "update"
           },
           {
            "args": [
             {
              "x": [
               [
                "United States",
                "China",
                "Brazil",
                "Japan",
                "Russia",
                "Indonesia",
                "Germany",
                "Canada",
                "United Kingdom",
                "Ukraine"
               ]
              ],
              "y": [
               [
                5191.66,
                2799.84,
                1339.1,
                1090.14,
                1081.87,
                849.42,
                782.33,
                560.63,
                511.41,
                257.09
               ]
              ]
             },
             {
              "title": "Countries with the most emissions in 1999"
             }
            ],
            "label": "1999",
            "method": "update"
           },
           {
            "args": [
             {
              "x": [
               [
                "United States",
                "China",
                "Brazil",
                "Russia",
                "Japan",
                "Indonesia",
                "Germany",
                "Canada",
                "United Kingdom",
                "Ukraine"
               ]
              ],
              "y": [
               [
                5357.88,
                2994.73,
                1351.16,
                1115.29,
                1107.18,
                795.62,
                778.97,
                580.65,
                519.16,
                248.7
               ]
              ]
             },
             {
              "title": "Countries with the most emissions in 2000"
             }
            ],
            "label": "2000",
            "method": "update"
           },
           {
            "args": [
             {
              "x": [
               [
                "United States",
                "China",
                "Brazil",
                "Japan",
                "Germany",
                "Canada",
                "Russia",
                "Indonesia",
                "United Kingdom",
                "Ukraine"
               ]
              ],
              "y": [
               [
                5347.79,
                3194.5,
                1420.6,
                1073.16,
                829.38,
                808.34,
                721.85,
                631.16,
                533.53,
                276.38
               ]
              ]
             },
             {
              "title": "Countries with the most emissions in 2001"
             }
            ],
            "label": "2001",
            "method": "update"
           },
           {
            "args": [
             {
              "x": [
               [
                "United States",
                "China",
                "Brazil",
                "Japan",
                "Indonesia",
                "Canada",
                "Germany",
                "Russia",
                "United Kingdom",
                "Ukraine"
               ]
              ],
              "y": [
               [
                5192.68,
                3476.08,
                1418.33,
                1109.5,
                1001.39,
                826.9,
                815.01,
                723.05,
                519.27,
                279.72
               ]
              ]
             },
             {
              "title": "Countries with the most emissions in 2002"
             }
            ],
            "label": "2002",
            "method": "update"
           },
           {
            "args": [
             {
              "x": [
               [
                "United States",
                "China",
                "Brazil",
                "Japan",
                "Canada",
                "Germany",
                "Indonesia",
                "Russia",
                "United Kingdom",
                "Ukraine"
               ]
              ],
              "y": [
               [
                5258.12,
                4081.05,
                1410.4,
                1118.29,
                846.79,
                818.31,
                761.93,
                753.44,
                531.12,
                305.94
               ]
              ]
             },
             {
              "title": "Countries with the most emissions in 2003"
             }
            ],
            "label": "2003",
            "method": "update"
           },
           {
            "args": [
             {
              "x": [
               [
                "United States",
                "China",
                "Brazil",
                "Japan",
                "Indonesia",
                "Canada",
                "Germany",
                "Russia",
                "United Kingdom",
                "Ukraine"
               ]
              ],
              "y": [
               [
                5338.46,
                4789.59,
                1427.88,
                1113.6,
                1031.49,
                838.71,
                802.5,
                765.36,
                531.36,
                282.73
               ]
              ]
             },
             {
              "title": "Countries with the most emissions in 2004"
             }
            ],
            "label": "2004",
            "method": "update"
           },
           {
            "args": [
             {
              "x": [
               [
                "China",
                "United States",
                "Brazil",
                "Japan",
                "Canada",
                "Indonesia",
                "Germany",
                "Russia",
                "United Kingdom",
                "Ukraine"
               ]
              ],
              "y": [
               [
                5486.88,
                5354.45,
                1431.63,
                1116.25,
                851.37,
                829.93,
                783.85,
                762.04,
                529.64,
                270.97
               ]
              ]
             },
             {
              "title": "Countries with the most emissions in 2005"
             }
            ],
            "label": "2005",
            "method": "update"
           },
           {
            "args": [
             {
              "x": [
               [
                "China",
                "United States",
                "Brazil",
                "Indonesia",
                "Japan",
                "Canada",
                "Russia",
                "Germany",
                "United Kingdom",
                "Ukraine"
               ]
              ],
              "y": [
               [
                6099.67,
                5254.87,
                1435.1,
                1152.83,
                1092.63,
                842.42,
                821.2,
                795.83,
                530.68,
                279.54
               ]
              ]
             },
             {
              "title": "Countries with the most emissions in 2006"
             }
            ],
            "label": "2006",
            "method": "update"
           },
           {
            "args": [
             {
              "x": [
               [
                "China",
                "United States",
                "Brazil",
                "Japan",
                "Canada",
                "Russia",
                "Germany",
                "Indonesia",
                "United Kingdom",
                "Ukraine"
               ]
              ],
              "y": [
               [
                6655.98,
                5338.52,
                1452.63,
                1128.57,
                872.59,
                822.52,
                765.28,
                738.57,
                518.2,
                287.66
               ]
              ]
             },
             {
              "title": "Countries with the most emissions in 2007"
             }
            ],
            "label": "2007",
            "method": "update"
           },
           {
            "args": [
             {
              "x": [
               [
                "China",
                "United States",
                "Brazil",
                "Japan",
                "Canada",
                "Russia",
                "Germany",
                "Indonesia",
                "United Kingdom",
                "Ukraine"
               ]
              ],
              "y": [
               [
                6862.78,
                5161.51,
                1473.28,
                1061.73,
                851.45,
                844.09,
                771.22,
                731.76,
                503.46,
                276.79
               ]
              ]
             },
             {
              "title": "Countries with the most emissions in 2008"
             }
            ],
            "label": "2008",
            "method": "update"
           },
           {
            "args": [
             {
              "x": [
               [
                "China",
                "United States",
                "Brazil",
                "Indonesia",
                "Japan",
                "Canada",
                "Russia",
                "Germany",
                "United Kingdom",
                "Ukraine"
               ]
              ],
              "y": [
               [
                7382.89,
                4757.65,
                1451.95,
                1036.71,
                1003.19,
                822.04,
                726.06,
                716.32,
                454.16,
                227.7
               ]
              ]
             },
             {
              "title": "Countries with the most emissions in 2009"
             }
            ],
            "label": "2009",
            "method": "update"
           },
           {
            "args": [
             {
              "x": [
               [
                "China",
                "United States",
                "Brazil",
                "Japan",
                "Canada",
                "Russia",
                "Indonesia",
                "Germany",
                "United Kingdom",
                "Ukraine"
               ]
              ],
              "y": [
               [
                8138.34,
                4990.96,
                1498.84,
                1057.96,
                836.28,
                814.11,
                773.92,
                754.58,
                470.83,
                244.87
               ]
              ]
             },
             {
              "title": "Countries with the most emissions in 2010"
             }
            ],
            "label": "2010",
            "method": "update"
           },
           {
            "args": [
             {
              "x": [
               [
                "China",
                "United States",
                "Indonesia",
                "Japan",
                "Russia",
                "Germany",
                "Canada",
                "Brazil",
                "United Kingdom",
                "Ukraine"
               ]
              ],
              "y": [
               [
                8568.09,
                4753.12,
                1285.69,
                1162.67,
                974.12,
                717.17,
                682.88,
                679.1,
                433.47,
                269.24
               ]
              ]
             },
             {
              "title": "Countries with the most emissions in 2011"
             }
            ],
            "label": "2011",
            "method": "update"
           },
           {
            "args": [
             {
              "x": [
               [
                "China",
                "United States",
                "Indonesia",
                "Japan",
                "Russia",
                "Germany",
                "Brazil",
                "Canada",
                "United Kingdom",
                "Ukraine"
               ]
              ],
              "y": [
               [
                8823.05,
                4531.16,
                1303.87,
                1202.66,
                979.37,
                730.81,
                713.75,
                682.31,
                456.12,
                263.01
               ]
              ]
             },
             {
              "title": "Countries with the most emissions in 2012"
             }
            ],
            "label": "2012",
            "method": "update"
           },
           {
            "args": [
             {
              "x": [
               [
                "China",
                "United States",
                "Indonesia",
                "Japan",
                "Russia",
                "Germany",
                "Brazil",
                "Canada",
                "United Kingdom",
                "Ukraine"
               ]
              ],
              "y": [
               [
                9226.51,
                4670.34,
                1250.27,
                1211.27,
                936.52,
                748.42,
                744.85,
                691.53,
                442.1,
                254.33
               ]
              ]
             },
             {
              "title": "Countries with the most emissions in 2013"
             }
            ],
            "label": "2013",
            "method": "update"
           },
           {
            "args": [
             {
              "x": [
               [
                "China",
                "United States",
                "Indonesia",
                "Japan",
                "Russia",
                "Brazil",
                "Germany",
                "Canada",
                "United Kingdom",
                "Ukraine"
               ]
              ],
              "y": [
               [
                9184.77,
                4683.35,
                1539.23,
                1170.11,
                919.33,
                768.77,
                708.25,
                697.02,
                403.89,
                223.34
               ]
              ]
             },
             {
              "title": "Countries with the most emissions in 2014"
             }
            ],
            "label": "2014",
            "method": "update"
           },
           {
            "args": [
             {
              "x": [
               [
                "China",
                "United States",
                "Indonesia",
                "Japan",
                "Russia",
                "Brazil",
                "Germany",
                "Canada",
                "United Kingdom",
                "Ukraine"
               ]
              ],
              "y": [
               [
                9120.27,
                4563.52,
                1574.76,
                1131.74,
                870.02,
                741.96,
                713.08,
                693.99,
                389.41,
                176.6
               ]
              ]
             },
             {
              "title": "Countries with the most emissions in 2015"
             }
            ],
            "label": "2015",
            "method": "update"
           },
           {
            "args": [
             {
              "x": [
               [
                "China",
                "United States",
                "Japan",
                "Indonesia",
                "Russia",
                "Brazil",
                "Germany",
                "Canada",
                "United Kingdom",
                "Ukraine"
               ]
              ],
              "y": [
               [
                9164.21,
                4656.84,
                1139.33,
                1068.1,
                971.87,
                826.21,
                717.68,
                585.58,
                367.93,
                189.1
               ]
              ]
             },
             {
              "title": "Countries with the most emissions in 2016"
             }
            ],
            "label": "2016",
            "method": "update"
           },
           {
            "args": [
             {
              "x": [
               [
                "China",
                "United States",
                "Japan",
                "Indonesia",
                "Russia",
                "Brazil",
                "Germany",
                "Canada",
                "United Kingdom",
                "Ukraine"
               ]
              ],
              "y": [
               [
                9367.67,
                4581.9,
                1119.86,
                1081.11,
                998.24,
                834.14,
                702.73,
                597.4,
                355.42,
                162.66
               ]
              ]
             },
             {
              "title": "Countries with the most emissions in 2017"
             }
            ],
            "label": "2017",
            "method": "update"
           },
           {
            "args": [
             {
              "x": [
               [
                "China",
                "United States",
                "Indonesia",
                "Japan",
                "Russia",
                "Brazil",
                "Germany",
                "Canada",
                "United Kingdom",
                "Ukraine"
               ]
              ],
              "y": [
               [
                9663.36,
                4749.57,
                1269.55,
                1074.08,
                1049.05,
                812.02,
                680.06,
                609.67,
                347.84,
                173.18
               ]
              ]
             },
             {
              "title": "Countries with the most emissions in 2018"
             }
            ],
            "label": "2018",
            "method": "update"
           }
          ],
          "direction": "down",
          "showactive": true,
          "x": 0.005,
          "xanchor": "left",
          "y": 1.4,
          "yanchor": "top"
         }
        ],
        "xaxis": {
         "anchor": "y",
         "domain": [
          0,
          1
         ],
         "title": {
          "text": "Country"
         }
        },
        "yaxis": {
         "anchor": "x",
         "domain": [
          0,
          1
         ],
         "title": {
          "text": "1990"
         }
        }
       }
      },
      "text/html": [
       "<div>                            <div id=\"9a992b1a-c5b9-4555-a469-acae5fcfa954\" class=\"plotly-graph-div\" style=\"height:525px; width:100%;\"></div>            <script type=\"text/javascript\">                require([\"plotly\"], function(Plotly) {                    window.PLOTLYENV=window.PLOTLYENV || {};                                    if (document.getElementById(\"9a992b1a-c5b9-4555-a469-acae5fcfa954\")) {                    Plotly.newPlot(                        \"9a992b1a-c5b9-4555-a469-acae5fcfa954\",                        [{\"alignmentgroup\":\"True\",\"hovertemplate\":\"Country=%{x}<br>1990=%{y}<extra></extra>\",\"legendgroup\":\"\",\"marker\":{\"color\":\"#de4a4a\",\"pattern\":{\"shape\":\"\"}},\"name\":\"\",\"offsetgroup\":\"\",\"orientation\":\"v\",\"showlegend\":false,\"textposition\":\"auto\",\"texttemplate\":\"%{y}\",\"x\":[\"United States\",\"China\",\"Russia\",\"Brazil\",\"Japan\",\"Germany\",\"Indonesia\",\"Ukraine\",\"United Kingdom\",\"Canada\"],\"xaxis\":\"x\",\"y\":[4426.4,1823.96,1790.34,1236.73,1016.89,904.38,832.39,640.09,545.73,483.99],\"yaxis\":\"y\",\"type\":\"bar\"}],                        {\"template\":{\"data\":{\"barpolar\":[{\"marker\":{\"line\":{\"color\":\"rgb(17,17,17)\",\"width\":0.5},\"pattern\":{\"fillmode\":\"overlay\",\"size\":10,\"solidity\":0.2}},\"type\":\"barpolar\"}],\"bar\":[{\"error_x\":{\"color\":\"#f2f5fa\"},\"error_y\":{\"color\":\"#f2f5fa\"},\"marker\":{\"line\":{\"color\":\"rgb(17,17,17)\",\"width\":0.5},\"pattern\":{\"fillmode\":\"overlay\",\"size\":10,\"solidity\":0.2}},\"type\":\"bar\"}],\"carpet\":[{\"aaxis\":{\"endlinecolor\":\"#A2B1C6\",\"gridcolor\":\"#506784\",\"linecolor\":\"#506784\",\"minorgridcolor\":\"#506784\",\"startlinecolor\":\"#A2B1C6\"},\"baxis\":{\"endlinecolor\":\"#A2B1C6\",\"gridcolor\":\"#506784\",\"linecolor\":\"#506784\",\"minorgridcolor\":\"#506784\",\"startlinecolor\":\"#A2B1C6\"},\"type\":\"carpet\"}],\"choropleth\":[{\"colorbar\":{\"outlinewidth\":0,\"ticks\":\"\"},\"type\":\"choropleth\"}],\"contourcarpet\":[{\"colorbar\":{\"outlinewidth\":0,\"ticks\":\"\"},\"type\":\"contourcarpet\"}],\"contour\":[{\"colorbar\":{\"outlinewidth\":0,\"ticks\":\"\"},\"colorscale\":[[0.0,\"#0d0887\"],[0.1111111111111111,\"#46039f\"],[0.2222222222222222,\"#7201a8\"],[0.3333333333333333,\"#9c179e\"],[0.4444444444444444,\"#bd3786\"],[0.5555555555555556,\"#d8576b\"],[0.6666666666666666,\"#ed7953\"],[0.7777777777777778,\"#fb9f3a\"],[0.8888888888888888,\"#fdca26\"],[1.0,\"#f0f921\"]],\"type\":\"contour\"}],\"heatmapgl\":[{\"colorbar\":{\"outlinewidth\":0,\"ticks\":\"\"},\"colorscale\":[[0.0,\"#0d0887\"],[0.1111111111111111,\"#46039f\"],[0.2222222222222222,\"#7201a8\"],[0.3333333333333333,\"#9c179e\"],[0.4444444444444444,\"#bd3786\"],[0.5555555555555556,\"#d8576b\"],[0.6666666666666666,\"#ed7953\"],[0.7777777777777778,\"#fb9f3a\"],[0.8888888888888888,\"#fdca26\"],[1.0,\"#f0f921\"]],\"type\":\"heatmapgl\"}],\"heatmap\":[{\"colorbar\":{\"outlinewidth\":0,\"ticks\":\"\"},\"colorscale\":[[0.0,\"#0d0887\"],[0.1111111111111111,\"#46039f\"],[0.2222222222222222,\"#7201a8\"],[0.3333333333333333,\"#9c179e\"],[0.4444444444444444,\"#bd3786\"],[0.5555555555555556,\"#d8576b\"],[0.6666666666666666,\"#ed7953\"],[0.7777777777777778,\"#fb9f3a\"],[0.8888888888888888,\"#fdca26\"],[1.0,\"#f0f921\"]],\"type\":\"heatmap\"}],\"histogram2dcontour\":[{\"colorbar\":{\"outlinewidth\":0,\"ticks\":\"\"},\"colorscale\":[[0.0,\"#0d0887\"],[0.1111111111111111,\"#46039f\"],[0.2222222222222222,\"#7201a8\"],[0.3333333333333333,\"#9c179e\"],[0.4444444444444444,\"#bd3786\"],[0.5555555555555556,\"#d8576b\"],[0.6666666666666666,\"#ed7953\"],[0.7777777777777778,\"#fb9f3a\"],[0.8888888888888888,\"#fdca26\"],[1.0,\"#f0f921\"]],\"type\":\"histogram2dcontour\"}],\"histogram2d\":[{\"colorbar\":{\"outlinewidth\":0,\"ticks\":\"\"},\"colorscale\":[[0.0,\"#0d0887\"],[0.1111111111111111,\"#46039f\"],[0.2222222222222222,\"#7201a8\"],[0.3333333333333333,\"#9c179e\"],[0.4444444444444444,\"#bd3786\"],[0.5555555555555556,\"#d8576b\"],[0.6666666666666666,\"#ed7953\"],[0.7777777777777778,\"#fb9f3a\"],[0.8888888888888888,\"#fdca26\"],[1.0,\"#f0f921\"]],\"type\":\"histogram2d\"}],\"histogram\":[{\"marker\":{\"pattern\":{\"fillmode\":\"overlay\",\"size\":10,\"solidity\":0.2}},\"type\":\"histogram\"}],\"mesh3d\":[{\"colorbar\":{\"outlinewidth\":0,\"ticks\":\"\"},\"type\":\"mesh3d\"}],\"parcoords\":[{\"line\":{\"colorbar\":{\"outlinewidth\":0,\"ticks\":\"\"}},\"type\":\"parcoords\"}],\"pie\":[{\"automargin\":true,\"type\":\"pie\"}],\"scatter3d\":[{\"line\":{\"colorbar\":{\"outlinewidth\":0,\"ticks\":\"\"}},\"marker\":{\"colorbar\":{\"outlinewidth\":0,\"ticks\":\"\"}},\"type\":\"scatter3d\"}],\"scattercarpet\":[{\"marker\":{\"colorbar\":{\"outlinewidth\":0,\"ticks\":\"\"}},\"type\":\"scattercarpet\"}],\"scattergeo\":[{\"marker\":{\"colorbar\":{\"outlinewidth\":0,\"ticks\":\"\"}},\"type\":\"scattergeo\"}],\"scattergl\":[{\"marker\":{\"line\":{\"color\":\"#283442\"}},\"type\":\"scattergl\"}],\"scattermapbox\":[{\"marker\":{\"colorbar\":{\"outlinewidth\":0,\"ticks\":\"\"}},\"type\":\"scattermapbox\"}],\"scatterpolargl\":[{\"marker\":{\"colorbar\":{\"outlinewidth\":0,\"ticks\":\"\"}},\"type\":\"scatterpolargl\"}],\"scatterpolar\":[{\"marker\":{\"colorbar\":{\"outlinewidth\":0,\"ticks\":\"\"}},\"type\":\"scatterpolar\"}],\"scatter\":[{\"marker\":{\"line\":{\"color\":\"#283442\"}},\"type\":\"scatter\"}],\"scatterternary\":[{\"marker\":{\"colorbar\":{\"outlinewidth\":0,\"ticks\":\"\"}},\"type\":\"scatterternary\"}],\"surface\":[{\"colorbar\":{\"outlinewidth\":0,\"ticks\":\"\"},\"colorscale\":[[0.0,\"#0d0887\"],[0.1111111111111111,\"#46039f\"],[0.2222222222222222,\"#7201a8\"],[0.3333333333333333,\"#9c179e\"],[0.4444444444444444,\"#bd3786\"],[0.5555555555555556,\"#d8576b\"],[0.6666666666666666,\"#ed7953\"],[0.7777777777777778,\"#fb9f3a\"],[0.8888888888888888,\"#fdca26\"],[1.0,\"#f0f921\"]],\"type\":\"surface\"}],\"table\":[{\"cells\":{\"fill\":{\"color\":\"#506784\"},\"line\":{\"color\":\"rgb(17,17,17)\"}},\"header\":{\"fill\":{\"color\":\"#2a3f5f\"},\"line\":{\"color\":\"rgb(17,17,17)\"}},\"type\":\"table\"}]},\"layout\":{\"annotationdefaults\":{\"arrowcolor\":\"#f2f5fa\",\"arrowhead\":0,\"arrowwidth\":1},\"autotypenumbers\":\"strict\",\"coloraxis\":{\"colorbar\":{\"outlinewidth\":0,\"ticks\":\"\"}},\"colorscale\":{\"diverging\":[[0,\"#8e0152\"],[0.1,\"#c51b7d\"],[0.2,\"#de77ae\"],[0.3,\"#f1b6da\"],[0.4,\"#fde0ef\"],[0.5,\"#f7f7f7\"],[0.6,\"#e6f5d0\"],[0.7,\"#b8e186\"],[0.8,\"#7fbc41\"],[0.9,\"#4d9221\"],[1,\"#276419\"]],\"sequential\":[[0.0,\"#0d0887\"],[0.1111111111111111,\"#46039f\"],[0.2222222222222222,\"#7201a8\"],[0.3333333333333333,\"#9c179e\"],[0.4444444444444444,\"#bd3786\"],[0.5555555555555556,\"#d8576b\"],[0.6666666666666666,\"#ed7953\"],[0.7777777777777778,\"#fb9f3a\"],[0.8888888888888888,\"#fdca26\"],[1.0,\"#f0f921\"]],\"sequentialminus\":[[0.0,\"#0d0887\"],[0.1111111111111111,\"#46039f\"],[0.2222222222222222,\"#7201a8\"],[0.3333333333333333,\"#9c179e\"],[0.4444444444444444,\"#bd3786\"],[0.5555555555555556,\"#d8576b\"],[0.6666666666666666,\"#ed7953\"],[0.7777777777777778,\"#fb9f3a\"],[0.8888888888888888,\"#fdca26\"],[1.0,\"#f0f921\"]]},\"colorway\":[\"#636efa\",\"#EF553B\",\"#00cc96\",\"#ab63fa\",\"#FFA15A\",\"#19d3f3\",\"#FF6692\",\"#B6E880\",\"#FF97FF\",\"#FECB52\"],\"font\":{\"color\":\"#f2f5fa\"},\"geo\":{\"bgcolor\":\"rgb(17,17,17)\",\"lakecolor\":\"rgb(17,17,17)\",\"landcolor\":\"rgb(17,17,17)\",\"showlakes\":true,\"showland\":true,\"subunitcolor\":\"#506784\"},\"hoverlabel\":{\"align\":\"left\"},\"hovermode\":\"closest\",\"mapbox\":{\"style\":\"dark\"},\"paper_bgcolor\":\"rgb(17,17,17)\",\"plot_bgcolor\":\"rgb(17,17,17)\",\"polar\":{\"angularaxis\":{\"gridcolor\":\"#506784\",\"linecolor\":\"#506784\",\"ticks\":\"\"},\"bgcolor\":\"rgb(17,17,17)\",\"radialaxis\":{\"gridcolor\":\"#506784\",\"linecolor\":\"#506784\",\"ticks\":\"\"}},\"scene\":{\"xaxis\":{\"backgroundcolor\":\"rgb(17,17,17)\",\"gridcolor\":\"#506784\",\"gridwidth\":2,\"linecolor\":\"#506784\",\"showbackground\":true,\"ticks\":\"\",\"zerolinecolor\":\"#C8D4E3\"},\"yaxis\":{\"backgroundcolor\":\"rgb(17,17,17)\",\"gridcolor\":\"#506784\",\"gridwidth\":2,\"linecolor\":\"#506784\",\"showbackground\":true,\"ticks\":\"\",\"zerolinecolor\":\"#C8D4E3\"},\"zaxis\":{\"backgroundcolor\":\"rgb(17,17,17)\",\"gridcolor\":\"#506784\",\"gridwidth\":2,\"linecolor\":\"#506784\",\"showbackground\":true,\"ticks\":\"\",\"zerolinecolor\":\"#C8D4E3\"}},\"shapedefaults\":{\"line\":{\"color\":\"#f2f5fa\"}},\"sliderdefaults\":{\"bgcolor\":\"#C8D4E3\",\"bordercolor\":\"rgb(17,17,17)\",\"borderwidth\":1,\"tickwidth\":0},\"ternary\":{\"aaxis\":{\"gridcolor\":\"#506784\",\"linecolor\":\"#506784\",\"ticks\":\"\"},\"baxis\":{\"gridcolor\":\"#506784\",\"linecolor\":\"#506784\",\"ticks\":\"\"},\"bgcolor\":\"rgb(17,17,17)\",\"caxis\":{\"gridcolor\":\"#506784\",\"linecolor\":\"#506784\",\"ticks\":\"\"}},\"title\":{\"x\":0.05},\"updatemenudefaults\":{\"bgcolor\":\"#506784\",\"borderwidth\":0},\"xaxis\":{\"automargin\":true,\"gridcolor\":\"#283442\",\"linecolor\":\"#506784\",\"ticks\":\"\",\"title\":{\"standoff\":15},\"zerolinecolor\":\"#283442\",\"zerolinewidth\":2},\"yaxis\":{\"automargin\":true,\"gridcolor\":\"#283442\",\"linecolor\":\"#506784\",\"ticks\":\"\",\"title\":{\"standoff\":15},\"zerolinecolor\":\"#283442\",\"zerolinewidth\":2}}},\"xaxis\":{\"anchor\":\"y\",\"domain\":[0.0,1.0],\"title\":{\"text\":\"Country\"}},\"yaxis\":{\"anchor\":\"x\",\"domain\":[0.0,1.0],\"title\":{\"text\":\"1990\"}},\"legend\":{\"tracegroupgap\":0},\"title\":{\"text\":\"Countries with the most emissions in 1990\",\"x\":0.5},\"barmode\":\"relative\",\"updatemenus\":[{\"buttons\":[{\"args\":[{\"x\":[[\"United States\",\"China\",\"Russia\",\"Brazil\",\"Japan\",\"Germany\",\"Indonesia\",\"Ukraine\",\"United Kingdom\",\"Canada\"]],\"y\":[[4426.4,1823.96,1790.34,1236.73,1016.89,904.38,832.39,640.09,545.73,483.99]]},{\"title\":\"Countries with the most emissions in 1990\"}],\"label\":\"1990\",\"method\":\"update\"},{\"args\":[{\"x\":[[\"United States\",\"China\",\"Russia\",\"Brazil\",\"Japan\",\"Germany\",\"Indonesia\",\"Ukraine\",\"United Kingdom\",\"Canada\"]],\"y\":[[4389.5,1952.78,1766.89,1243.65,1029.99,881.44,846.23,603.4,559.38,477.81]]},{\"title\":\"Countries with the most emissions in 1991\"}],\"label\":\"1991\",\"method\":\"update\"},{\"args\":[{\"x\":[[\"United States\",\"China\",\"Russia\",\"Brazil\",\"Japan\",\"Indonesia\",\"Germany\",\"United Kingdom\",\"Ukraine\",\"Canada\"]],\"y\":[[4461.62,2068.77,1630.98,1247.13,1041.79,855.3,841.83,542.02,526.12,490.88]]},{\"title\":\"Countries with the most emissions in 1992\"}],\"label\":\"1992\",\"method\":\"update\"},{\"args\":[{\"x\":[[\"United States\",\"China\",\"Russia\",\"Brazil\",\"Japan\",\"Indonesia\",\"Germany\",\"United Kingdom\",\"Canada\",\"Ukraine\"]],\"y\":[[4581.76,2294.12,1447.33,1253.64,1033.99,869.88,836.08,529.56,487.56,450.79]]},{\"title\":\"Countries with the most emissions in 1993\"}],\"label\":\"1993\",\"method\":\"update\"},{\"args\":[{\"x\":[[\"United States\",\"China\",\"Brazil\",\"Russia\",\"Japan\",\"Indonesia\",\"Germany\",\"United Kingdom\",\"Canada\",\"Ukraine\"]],\"y\":[[4654.52,2414.5,1261.19,1238.41,1087.22,881.31,824.87,524.43,503.69,367.14]]},{\"title\":\"Countries with the most emissions in 1994\"}],\"label\":\"1994\",\"method\":\"update\"},{\"args\":[{\"x\":[[\"United States\",\"China\",\"Brazil\",\"Russia\",\"Japan\",\"Indonesia\",\"Germany\",\"Canada\",\"United Kingdom\",\"Ukraine\"]],\"y\":[[4708.31,2735.48,1279.97,1190.39,1097.1,909.21,822.15,514.62,513.33,350.76]]},{\"title\":\"Countries with the most emissions in 1995\"}],\"label\":\"1995\",\"method\":\"update\"},{\"args\":[{\"x\":[[\"United States\",\"China\",\"Brazil\",\"Russia\",\"Japan\",\"Germany\",\"Indonesia\",\"United Kingdom\",\"Canada\",\"Ukraine\"]],\"y\":[[4864.46,2715.5,1301.37,1159.83,1110.51,851.78,772.38,533.7,528.32,297.56]]},{\"title\":\"Countries with the most emissions in 1996\"}],\"label\":\"1996\",\"method\":\"update\"},{\"args\":[{\"x\":[[\"United States\",\"China\",\"Indonesia\",\"Brazil\",\"Japan\",\"Russia\",\"Germany\",\"Canada\",\"United Kingdom\",\"Ukraine\"]],\"y\":[[5129.29,2779.27,1484.56,1319.99,1098.26,1052.5,819.93,543.72,511.37,279.68]]},{\"title\":\"Countries with the most emissions in 1997\"}],\"label\":\"1997\",\"method\":\"update\"},{\"args\":[{\"x\":[[\"United States\",\"China\",\"Brazil\",\"Japan\",\"Russia\",\"Indonesia\",\"Germany\",\"Canada\",\"United Kingdom\",\"Ukraine\"]],\"y\":[[5172.06,2882.75,1329.24,1055.5,1043.96,907.96,812.12,552.1,514.07,260.74]]},{\"title\":\"Countries with the most emissions in 1998\"}],\"label\":\"1998\",\"method\":\"update\"},{\"args\":[{\"x\":[[\"United States\",\"China\",\"Brazil\",\"Japan\",\"Russia\",\"Indonesia\",\"Germany\",\"Canada\",\"United Kingdom\",\"Ukraine\"]],\"y\":[[5191.66,2799.84,1339.1,1090.14,1081.87,849.42,782.33,560.63,511.41,257.09]]},{\"title\":\"Countries with the most emissions in 1999\"}],\"label\":\"1999\",\"method\":\"update\"},{\"args\":[{\"x\":[[\"United States\",\"China\",\"Brazil\",\"Russia\",\"Japan\",\"Indonesia\",\"Germany\",\"Canada\",\"United Kingdom\",\"Ukraine\"]],\"y\":[[5357.88,2994.73,1351.16,1115.29,1107.18,795.62,778.97,580.65,519.16,248.7]]},{\"title\":\"Countries with the most emissions in 2000\"}],\"label\":\"2000\",\"method\":\"update\"},{\"args\":[{\"x\":[[\"United States\",\"China\",\"Brazil\",\"Japan\",\"Germany\",\"Canada\",\"Russia\",\"Indonesia\",\"United Kingdom\",\"Ukraine\"]],\"y\":[[5347.79,3194.5,1420.6,1073.16,829.38,808.34,721.85,631.16,533.53,276.38]]},{\"title\":\"Countries with the most emissions in 2001\"}],\"label\":\"2001\",\"method\":\"update\"},{\"args\":[{\"x\":[[\"United States\",\"China\",\"Brazil\",\"Japan\",\"Indonesia\",\"Canada\",\"Germany\",\"Russia\",\"United Kingdom\",\"Ukraine\"]],\"y\":[[5192.68,3476.08,1418.33,1109.5,1001.39,826.9,815.01,723.05,519.27,279.72]]},{\"title\":\"Countries with the most emissions in 2002\"}],\"label\":\"2002\",\"method\":\"update\"},{\"args\":[{\"x\":[[\"United States\",\"China\",\"Brazil\",\"Japan\",\"Canada\",\"Germany\",\"Indonesia\",\"Russia\",\"United Kingdom\",\"Ukraine\"]],\"y\":[[5258.12,4081.05,1410.4,1118.29,846.79,818.31,761.93,753.44,531.12,305.94]]},{\"title\":\"Countries with the most emissions in 2003\"}],\"label\":\"2003\",\"method\":\"update\"},{\"args\":[{\"x\":[[\"United States\",\"China\",\"Brazil\",\"Japan\",\"Indonesia\",\"Canada\",\"Germany\",\"Russia\",\"United Kingdom\",\"Ukraine\"]],\"y\":[[5338.46,4789.59,1427.88,1113.6,1031.49,838.71,802.5,765.36,531.36,282.73]]},{\"title\":\"Countries with the most emissions in 2004\"}],\"label\":\"2004\",\"method\":\"update\"},{\"args\":[{\"x\":[[\"China\",\"United States\",\"Brazil\",\"Japan\",\"Canada\",\"Indonesia\",\"Germany\",\"Russia\",\"United Kingdom\",\"Ukraine\"]],\"y\":[[5486.88,5354.45,1431.63,1116.25,851.37,829.93,783.85,762.04,529.64,270.97]]},{\"title\":\"Countries with the most emissions in 2005\"}],\"label\":\"2005\",\"method\":\"update\"},{\"args\":[{\"x\":[[\"China\",\"United States\",\"Brazil\",\"Indonesia\",\"Japan\",\"Canada\",\"Russia\",\"Germany\",\"United Kingdom\",\"Ukraine\"]],\"y\":[[6099.67,5254.87,1435.1,1152.83,1092.63,842.42,821.2,795.83,530.68,279.54]]},{\"title\":\"Countries with the most emissions in 2006\"}],\"label\":\"2006\",\"method\":\"update\"},{\"args\":[{\"x\":[[\"China\",\"United States\",\"Brazil\",\"Japan\",\"Canada\",\"Russia\",\"Germany\",\"Indonesia\",\"United Kingdom\",\"Ukraine\"]],\"y\":[[6655.98,5338.52,1452.63,1128.57,872.59,822.52,765.28,738.57,518.2,287.66]]},{\"title\":\"Countries with the most emissions in 2007\"}],\"label\":\"2007\",\"method\":\"update\"},{\"args\":[{\"x\":[[\"China\",\"United States\",\"Brazil\",\"Japan\",\"Canada\",\"Russia\",\"Germany\",\"Indonesia\",\"United Kingdom\",\"Ukraine\"]],\"y\":[[6862.78,5161.51,1473.28,1061.73,851.45,844.09,771.22,731.76,503.46,276.79]]},{\"title\":\"Countries with the most emissions in 2008\"}],\"label\":\"2008\",\"method\":\"update\"},{\"args\":[{\"x\":[[\"China\",\"United States\",\"Brazil\",\"Indonesia\",\"Japan\",\"Canada\",\"Russia\",\"Germany\",\"United Kingdom\",\"Ukraine\"]],\"y\":[[7382.89,4757.65,1451.95,1036.71,1003.19,822.04,726.06,716.32,454.16,227.7]]},{\"title\":\"Countries with the most emissions in 2009\"}],\"label\":\"2009\",\"method\":\"update\"},{\"args\":[{\"x\":[[\"China\",\"United States\",\"Brazil\",\"Japan\",\"Canada\",\"Russia\",\"Indonesia\",\"Germany\",\"United Kingdom\",\"Ukraine\"]],\"y\":[[8138.34,4990.96,1498.84,1057.96,836.28,814.11,773.92,754.58,470.83,244.87]]},{\"title\":\"Countries with the most emissions in 2010\"}],\"label\":\"2010\",\"method\":\"update\"},{\"args\":[{\"x\":[[\"China\",\"United States\",\"Indonesia\",\"Japan\",\"Russia\",\"Germany\",\"Canada\",\"Brazil\",\"United Kingdom\",\"Ukraine\"]],\"y\":[[8568.09,4753.12,1285.69,1162.67,974.12,717.17,682.88,679.1,433.47,269.24]]},{\"title\":\"Countries with the most emissions in 2011\"}],\"label\":\"2011\",\"method\":\"update\"},{\"args\":[{\"x\":[[\"China\",\"United States\",\"Indonesia\",\"Japan\",\"Russia\",\"Germany\",\"Brazil\",\"Canada\",\"United Kingdom\",\"Ukraine\"]],\"y\":[[8823.05,4531.16,1303.87,1202.66,979.37,730.81,713.75,682.31,456.12,263.01]]},{\"title\":\"Countries with the most emissions in 2012\"}],\"label\":\"2012\",\"method\":\"update\"},{\"args\":[{\"x\":[[\"China\",\"United States\",\"Indonesia\",\"Japan\",\"Russia\",\"Germany\",\"Brazil\",\"Canada\",\"United Kingdom\",\"Ukraine\"]],\"y\":[[9226.51,4670.34,1250.27,1211.27,936.52,748.42,744.85,691.53,442.1,254.33]]},{\"title\":\"Countries with the most emissions in 2013\"}],\"label\":\"2013\",\"method\":\"update\"},{\"args\":[{\"x\":[[\"China\",\"United States\",\"Indonesia\",\"Japan\",\"Russia\",\"Brazil\",\"Germany\",\"Canada\",\"United Kingdom\",\"Ukraine\"]],\"y\":[[9184.77,4683.35,1539.23,1170.11,919.33,768.77,708.25,697.02,403.89,223.34]]},{\"title\":\"Countries with the most emissions in 2014\"}],\"label\":\"2014\",\"method\":\"update\"},{\"args\":[{\"x\":[[\"China\",\"United States\",\"Indonesia\",\"Japan\",\"Russia\",\"Brazil\",\"Germany\",\"Canada\",\"United Kingdom\",\"Ukraine\"]],\"y\":[[9120.27,4563.52,1574.76,1131.74,870.02,741.96,713.08,693.99,389.41,176.6]]},{\"title\":\"Countries with the most emissions in 2015\"}],\"label\":\"2015\",\"method\":\"update\"},{\"args\":[{\"x\":[[\"China\",\"United States\",\"Japan\",\"Indonesia\",\"Russia\",\"Brazil\",\"Germany\",\"Canada\",\"United Kingdom\",\"Ukraine\"]],\"y\":[[9164.21,4656.84,1139.33,1068.1,971.87,826.21,717.68,585.58,367.93,189.1]]},{\"title\":\"Countries with the most emissions in 2016\"}],\"label\":\"2016\",\"method\":\"update\"},{\"args\":[{\"x\":[[\"China\",\"United States\",\"Japan\",\"Indonesia\",\"Russia\",\"Brazil\",\"Germany\",\"Canada\",\"United Kingdom\",\"Ukraine\"]],\"y\":[[9367.67,4581.9,1119.86,1081.11,998.24,834.14,702.73,597.4,355.42,162.66]]},{\"title\":\"Countries with the most emissions in 2017\"}],\"label\":\"2017\",\"method\":\"update\"},{\"args\":[{\"x\":[[\"China\",\"United States\",\"Indonesia\",\"Japan\",\"Russia\",\"Brazil\",\"Germany\",\"Canada\",\"United Kingdom\",\"Ukraine\"]],\"y\":[[9663.36,4749.57,1269.55,1074.08,1049.05,812.02,680.06,609.67,347.84,173.18]]},{\"title\":\"Countries with the most emissions in 2018\"}],\"label\":\"2018\",\"method\":\"update\"}],\"direction\":\"down\",\"showactive\":true,\"x\":0.005,\"xanchor\":\"left\",\"y\":1.4,\"yanchor\":\"top\"}]},                        {\"responsive\": true}                    ).then(function(){\n",
       "                            \n",
       "var gd = document.getElementById('9a992b1a-c5b9-4555-a469-acae5fcfa954');\n",
       "var x = new MutationObserver(function (mutations, observer) {{\n",
       "        var display = window.getComputedStyle(gd).display;\n",
       "        if (!display || display === 'none') {{\n",
       "            console.log([gd, 'removed!']);\n",
       "            Plotly.purge(gd);\n",
       "            observer.disconnect();\n",
       "        }}\n",
       "}});\n",
       "\n",
       "// Listen for the removal of the full notebook cells\n",
       "var notebookContainer = gd.closest('#notebook-container');\n",
       "if (notebookContainer) {{\n",
       "    x.observe(notebookContainer, {childList: true});\n",
       "}}\n",
       "\n",
       "// Listen for the clearing of the current output cell\n",
       "var outputEl = gd.closest('.output');\n",
       "if (outputEl) {{\n",
       "    x.observe(outputEl, {childList: true});\n",
       "}}\n",
       "\n",
       "                        })                };                });            </script>        </div>"
      ]
     },
     "metadata": {},
     "output_type": "display_data"
    }
   ],
   "source": [
    "most_emission(emissions_df)"
   ]
  },
  {
   "cell_type": "code",
   "execution_count": null,
   "id": "04fd0fc1",
   "metadata": {},
   "outputs": [],
   "source": []
  }
 ],
 "metadata": {
  "kernelspec": {
   "display_name": "mlenv",
   "language": "python",
   "name": "mlenv"
  },
  "language_info": {
   "codemirror_mode": {
    "name": "ipython",
    "version": 3
   },
   "file_extension": ".py",
   "mimetype": "text/x-python",
   "name": "python",
   "nbconvert_exporter": "python",
   "pygments_lexer": "ipython3",
   "version": "3.7.15"
  }
 },
 "nbformat": 4,
 "nbformat_minor": 5
}
